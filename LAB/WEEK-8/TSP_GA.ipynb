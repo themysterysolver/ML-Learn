{
  "nbformat": 4,
  "nbformat_minor": 0,
  "metadata": {
    "colab": {
      "provenance": [],
      "authorship_tag": "ABX9TyNlnwOuM7FSeT57bD8yvHFP",
      "include_colab_link": true
    },
    "kernelspec": {
      "name": "python3",
      "display_name": "Python 3"
    },
    "language_info": {
      "name": "python"
    }
  },
  "cells": [
    {
      "cell_type": "markdown",
      "metadata": {
        "id": "view-in-github",
        "colab_type": "text"
      },
      "source": [
        "<a href=\"https://colab.research.google.com/github/themysterysolver/ML-Learn/blob/main/LAB/WEEK-8/TSP_GA.ipynb\" target=\"_parent\"><img src=\"https://colab.research.google.com/assets/colab-badge.svg\" alt=\"Open In Colab\"/></a>"
      ]
    },
    {
      "cell_type": "code",
      "execution_count": 4,
      "metadata": {
        "id": "YrhjJ1fmPOgb"
      },
      "outputs": [],
      "source": [
        "import random\n",
        "import math\n",
        "import matplotlib.pyplot as plt"
      ]
    },
    {
      "cell_type": "code",
      "source": [
        "plt.scatter([0,3,7,4],[0,5,2,8])"
      ],
      "metadata": {
        "colab": {
          "base_uri": "https://localhost:8080/",
          "height": 447
        },
        "id": "iFqzGUPVP4Xd",
        "outputId": "c3b4cc6e-6dfd-47fd-ef36-5a29e51475ab"
      },
      "execution_count": 5,
      "outputs": [
        {
          "output_type": "execute_result",
          "data": {
            "text/plain": [
              "<matplotlib.collections.PathCollection at 0x7c8151ef35d0>"
            ]
          },
          "metadata": {},
          "execution_count": 5
        },
        {
          "output_type": "display_data",
          "data": {
            "text/plain": [
              "<Figure size 640x480 with 1 Axes>"
            ],
            "image/png": "[encoded data removed]"
          },
          "metadata": {}
        }
      ]
    },
    {
      "cell_type": "code",
      "source": [
        "points=[(0,0),(3,5),(7,2),(4,8)]"
      ],
      "metadata": {
        "id": "qwEWuW08QCer"
      },
      "execution_count": 6,
      "outputs": []
    },
    {
      "cell_type": "code",
      "source": [
        "def distance(p1, p2):\n",
        "    x1,y1=p1\n",
        "    x2,y2=p2\n",
        "    return math.sqrt((x1-x2)**2 + (y1-y2)**2)"
      ],
      "metadata": {
        "id": "Pl7teBT8T5Kz"
      },
      "execution_count": 24,
      "outputs": []
    },
    {
      "cell_type": "code",
      "source": [
        "def total_distance(path):\n",
        "  dist=0\n",
        "  for i in range(len(path)-1):\n",
        "    dist+=distance(path[i],path[i+1])\n",
        "  dist+=distance(path[-1],path[0])\n",
        "  return dist"
      ],
      "metadata": {
        "id": "RgF4dCVCVEsl"
      },
      "execution_count": 25,
      "outputs": []
    },
    {
      "cell_type": "code",
      "source": [
        "def init_population(size,points):\n",
        "  population=[]\n",
        "  for _ in range(size):\n",
        "    path=points[1:]\n",
        "    random.shuffle(path)\n",
        "    population.append([points[0]]+path)\n",
        "  return population"
      ],
      "metadata": {
        "id": "7l0bsPvgVfnS"
      },
      "execution_count": 26,
      "outputs": []
    },
    {
      "cell_type": "code",
      "source": [
        "def tournament_selection(population):\n",
        "  tournament=random.sample(population,5)\n",
        "  tournament.sort(key=lambda x:total_distance(x))\n",
        "  return tournament[0],tournament[1]"
      ],
      "metadata": {
        "id": "PfmfyGLPWkqf"
      },
      "execution_count": 27,
      "outputs": []
    },
    {
      "cell_type": "code",
      "source": [
        "def mutate(path):\n",
        "  i,j=random.sample(range(1,len(path)),2)\n",
        "  path[i],path[j]=path[j],path[i]"
      ],
      "metadata": {
        "id": "U6bAdSbBXVgq"
      },
      "execution_count": 28,
      "outputs": []
    },
    {
      "cell_type": "code",
      "source": [
        "def cross_over(parent1,parent2):\n",
        "  size=len(parent1)\n",
        "  start,end=sorted(random.sample(range(1,size),2))\n",
        "  offspring=[-1]*size\n",
        "  offspring[start:end+1]=parent1[start:end+1]\n",
        "\n",
        "  pos=0\n",
        "  for i in range(1,size):\n",
        "    if parent2[i] not in offspring:\n",
        "      while offspring[pos]!=-1:\n",
        "        pos+=1\n",
        "      offspring[pos]=parent2[i]\n",
        "  return offspring"
      ],
      "metadata": {
        "id": "IaOobGzRXwBZ"
      },
      "execution_count": 29,
      "outputs": []
    },
    {
      "cell_type": "code",
      "source": [
        "def GA_TVS(population_size,generations):\n",
        "  population=init_population(population_size,points)\n",
        "  best_sol=min(population,key=lambda x:total_distance(x))\n",
        "  for epoch in range(generations):\n",
        "    new_population=[]\n",
        "    for _ in range(population_size//2):\n",
        "      parent1,parent2=tournament_selection(population)\n",
        "      off1=cross_over(parent1,parent2)\n",
        "      off2=cross_over(parent2,parent1)\n",
        "\n",
        "      if random.random()<0.1:\n",
        "        mutate(off1)\n",
        "        mutate(off2)\n",
        "      new_population.extend([off1,off2])\n",
        "  population=new_population\n",
        "  best_gen=min(population,key=lambda x:total_distance(x))\n",
        "  if total_distance(best_gen) < total_distance(best_sol):\n",
        "          best_sol = best_gen\n",
        "  return best_sol"
      ],
      "metadata": {
        "id": "-hfBczTqfapl"
      },
      "execution_count": 30,
      "outputs": []
    },
    {
      "cell_type": "code",
      "source": [
        "#best_path=GA_TVS(50,100)"
      ],
      "metadata": {
        "id": "25YLKrOXhyfn"
      },
      "execution_count": 34,
      "outputs": []
    },
    {
      "cell_type": "code",
      "source": [
        "import random\n",
        "import math\n",
        "\n",
        "# Define the delivery points (including start point)\n",
        "points = [(0, 0), (3, 5), (7, 2), (4, 8)]\n",
        "\n",
        "# Calculate Euclidean distance between two points\n",
        "def distance(p1, p2):\n",
        "    x1, y1 = p1\n",
        "    x2, y2 = p2\n",
        "    return math.sqrt((x1 - x2)**2 + (y1 - y2)**2)\n",
        "\n",
        "# Calculate the total distance of a given path\n",
        "def total_distance(path):\n",
        "    dist = 0\n",
        "    for i in range(len(path) - 1):\n",
        "        dist += distance(path[i], path[i + 1])\n",
        "    dist += distance(path[-1], path[0])  # Returning to the start point\n",
        "    return dist\n",
        "\n",
        "# Initialize population with random routes\n",
        "def init_population(size, points):\n",
        "    population = []\n",
        "    for _ in range(size):\n",
        "        path = points[1:]  # Exclude start point\n",
        "        random.shuffle(path)\n",
        "        population.append([points[0]] + path)  # Start point is always the first\n",
        "    return population\n",
        "\n",
        "# Selection (Tournament selection)\n",
        "def selection(population):\n",
        "    tournament = random.sample(population, min(5, len(population)))  # Ensure we don't sample more than population size\n",
        "    tournament.sort(key=lambda x: total_distance(x))\n",
        "    return tournament[0], tournament[1]\n",
        "\n",
        "# Crossover (Order Crossover)\n",
        "def crossover(parent1, parent2):\n",
        "    size = len(parent1)\n",
        "    start, end = sorted(random.sample(range(1, size), 2))  # Random cross range\n",
        "\n",
        "    # Create offspring with None values\n",
        "    offspring = [None] * size\n",
        "    offspring[0] = parent1[0]  # Keep the starting point\n",
        "\n",
        "    # Copy the segment from parent1\n",
        "    offspring[start:end+1] = parent1[start:end+1]\n",
        "\n",
        "    # Fill in remaining positions from parent2\n",
        "    current_pos = 1  # Start after the fixed starting point\n",
        "    for i in range(1, size):\n",
        "        if parent2[i] not in offspring:\n",
        "            while current_pos < size and offspring[current_pos] is not None:\n",
        "                current_pos += 1\n",
        "            if current_pos < size:\n",
        "                offspring[current_pos] = parent2[i]\n",
        "\n",
        "    # Make sure no None values remain (shouldn't happen with correct implementation)\n",
        "    if None in offspring:\n",
        "        # Fallback: fill remaining positions with missing points in order\n",
        "        missing = [point for point in parent2 if point not in offspring]\n",
        "        for i in range(size):\n",
        "            if offspring[i] is None:\n",
        "                if missing:\n",
        "                    offspring[i] = missing.pop(0)\n",
        "\n",
        "    return offspring\n",
        "\n",
        "# Mutation (Swap Mutation)\n",
        "def mutate(path):\n",
        "    if len(path) > 2:  # Need at least 2 points to swap (excluding start)\n",
        "        i, j = random.sample(range(1, len(path)), 2)\n",
        "        path[i], path[j] = path[j], path[i]\n",
        "\n",
        "# Main genetic algorithm function\n",
        "def genetic_algorithm(population_size, generations):\n",
        "    population = init_population(population_size, points)\n",
        "\n",
        "    best_solution = min(population, key=lambda x: total_distance(x))\n",
        "    best_distance = total_distance(best_solution)\n",
        "\n",
        "    for gen in range(generations):\n",
        "        new_population = []\n",
        "\n",
        "        # Generate new population\n",
        "        for _ in range(population_size // 2):\n",
        "            parent1, parent2 = selection(population)\n",
        "            offspring1 = crossover(parent1, parent2)\n",
        "            offspring2 = crossover(parent2, parent1)\n",
        "\n",
        "            # Apply mutation\n",
        "            if random.random() < 0.1:  # Mutation probability\n",
        "                mutate(offspring1)\n",
        "            if random.random() < 0.1:  # Mutation probability\n",
        "                mutate(offspring2)\n",
        "\n",
        "            new_population.extend([offspring1, offspring2])\n",
        "\n",
        "        # Update population\n",
        "        population = new_population\n",
        "        best_in_generation = min(population, key=lambda x: total_distance(x))\n",
        "        current_best_distance = total_distance(best_in_generation)\n",
        "        if current_best_distance < best_distance:\n",
        "            best_solution = best_in_generation\n",
        "            best_distance = current_best_distance\n",
        "\n",
        "    return best_solution\n",
        "\n",
        "# Run the genetic algorithm\n",
        "best_path = genetic_algorithm(50, 500)\n",
        "print(\"Best Path:\", best_path)\n",
        "print(\"Total Distance:\", total_distance(best_path))"
      ],
      "metadata": {
        "colab": {
          "base_uri": "https://localhost:8080/"
        },
        "id": "gV3-a8qmh4cp",
        "outputId": "67a7a79c-eb88-4339-b79c-507a76c206ed"
      },
      "execution_count": 33,
      "outputs": [
        {
          "output_type": "stream",
          "name": "stdout",
          "text": [
            "Best Path: [(0, 0), (3, 5), (4, 8), (7, 2)]\n",
            "Total Distance: 22.981543376793567\n"
          ]
        }
      ]
    },
    {
      "cell_type": "code",
      "source": [],
      "metadata": {
        "id": "6z_WtvtXi1zu"
      },
      "execution_count": null,
      "outputs": []
    }
  ]
}