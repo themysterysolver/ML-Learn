{
 "cells": [
  {
   "cell_type": "code",
   "execution_count": null,
   "id": "bf8d792b-0da1-4121-903e-64f7838840ef",
   "metadata": {},
   "outputs": [],
   "source": [
    "#30.1.25\n",
    "import pandas as pd\n",
    "import numpy as np"
   ]
  },
  {
   "cell_type": "code",
   "execution_count": 8,
   "id": "53a2d513-19c0-434e-8a5d-4de8d3018cef",
   "metadata": {},
   "outputs": [],
   "source": [
    "#1.Create a 1D and 2D using Numpy , print its datatype, shape,dimension. "
   ]
  },
  {
   "cell_type": "code",
   "execution_count": 64,
   "id": "864e1221-358a-42dc-b9b6-6646f7dea3ea",
   "metadata": {},
   "outputs": [
    {
     "name": "stdout",
     "output_type": "stream",
     "text": [
      "int32 |S1\n",
      "(10,) (2, 3)\n",
      "(1, 1, 1, 1, 5)\n"
     ]
    }
   ],
   "source": [
    "arr1D=np.array([i for i in range(10)])\n",
    "arr2D=np.array([[1,2,3],[4,5,6]],dtype='S')\n",
    "print(arr1D.dtype,arr2D.dtype)\n",
    "print(arr1D.shape,arr2D.shape) #(row,col)\n",
    "arr5D=np.array([i for i in range(1,6)],ndmin=5)\n",
    "print(arr5D.shape)"
   ]
  },
  {
   "cell_type": "code",
   "execution_count": 62,
   "id": "014d2f4c-fff2-474a-b377-382daa45b982",
   "metadata": {},
   "outputs": [
    {
     "name": "stdout",
     "output_type": "stream",
     "text": [
      "(2, 4)\n",
      "[[0.28694931 0.79448021 0.45679621 0.00091689]\n",
      " [0.14649018 0.13261598 0.11768445 0.78022948]]\n"
     ]
    }
   ],
   "source": [
    "#2 i) random initialization \n",
    "arrR2D=np.random.rand(2,4)\n",
    "print('{}\\n{}'.format(arrR2D.shape,arrR2D))"
   ]
  },
  {
   "cell_type": "code",
   "execution_count": 84,
   "id": "d19cdc57-8b0c-4767-8875-ef3964d77ad8",
   "metadata": {},
   "outputs": [
    {
     "name": "stdout",
     "output_type": "stream",
     "text": [
      "[ 1. 10.]\n",
      "[1 3 5 7 9]\n"
     ]
    }
   ],
   "source": [
    "#ii) Default initialization-linespace and arrange\n",
    "arr=np.linspace(1,10,2) #No of point\n",
    "arr1=np.arange(1,10,2) #Step size\n",
    "print(arr)\n",
    "print(arr1)"
   ]
  },
  {
   "cell_type": "code",
   "execution_count": 72,
   "id": "b7ab426d-d49f-424a-8d3e-774da0b57a9e",
   "metadata": {},
   "outputs": [
    {
     "name": "stdout",
     "output_type": "stream",
     "text": [
      "[0.28694931 0.13261598]\n"
     ]
    }
   ],
   "source": [
    "#iii) Print Diagonal values\n",
    "print(arrR2D.diagonal())"
   ]
  },
  {
   "cell_type": "code",
   "execution_count": 74,
   "id": "64126e6e-3218-41e3-ac85-9c04853b9d40",
   "metadata": {},
   "outputs": [
    {
     "name": "stdout",
     "output_type": "stream",
     "text": [
      "0.2869493093852846\n"
     ]
    }
   ],
   "source": [
    "#iv) Print First Element\n",
    "print(arrR2D[0][0])"
   ]
  },
  {
   "cell_type": "code",
   "execution_count": 80,
   "id": "191f1ab1-51af-43c2-bdd4-76fba7195ae1",
   "metadata": {},
   "outputs": [
    {
     "name": "stdout",
     "output_type": "stream",
     "text": [
      "0.7802294756029324\n"
     ]
    }
   ],
   "source": [
    "#v) Print Last ELement\n",
    "print(arrR2D[-1][-1])"
   ]
  },
  {
   "cell_type": "code",
   "execution_count": 90,
   "id": "d8a00d54-ac84-4f9e-bc2e-17afcfb764ab",
   "metadata": {},
   "outputs": [
    {
     "name": "stdout",
     "output_type": "stream",
     "text": [
      "[0.14649018 0.13261598 0.11768445 0.78022948]\n",
      "[0.79448021 0.13261598]\n",
      "0.1326159849861379\n"
     ]
    }
   ],
   "source": [
    "#vi) Print 2nd row and 2nd column Element \n",
    "print(arrR2D[1])\n",
    "print(arrR2D[:,1])\n",
    "print(arrR2D[1,1])"
   ]
  },
  {
   "cell_type": "code",
   "execution_count": 94,
   "id": "c50cddce-f8ab-42e0-bf24-5264727fd9b8",
   "metadata": {},
   "outputs": [
    {
     "name": "stdout",
     "output_type": "stream",
     "text": [
      "8\n"
     ]
    }
   ],
   "source": [
    "#vii) Print No. of Elements \n",
    "print(arrR2D.size)"
   ]
  },
  {
   "cell_type": "code",
   "execution_count": 112,
   "id": "39c3361d-f21c-405c-9c09-7fbc5fee5411",
   "metadata": {},
   "outputs": [
    {
     "name": "stdout",
     "output_type": "stream",
     "text": [
      "arrA:\n",
      " [[0.45615033 0.56843395]\n",
      " [0.0187898  0.6176355 ]] \n",
      "AarrB:\n",
      " [[0.61209572 0.616934  ]\n",
      " [0.94374808 0.6818203 ]]\n"
     ]
    }
   ],
   "source": [
    "#3.Find the Determinant, Addition , Multiplication , Subraction , Division , Transpose, Cross Product , Dot product of a matrix\n",
    "arr22A=np.random.rand(2,2) #np.array([[1,2],[3,4]])\n",
    "arr22B=np.random.rand(2,2) #np.array([[-1,0],[-3,0]])\n",
    "print('arrA:\\n',arr22A,'\\nAarrB:\\n',arr22B)"
   ]
  },
  {
   "cell_type": "code",
   "execution_count": 124,
   "id": "f7cec3a3-fd01-4b09-8f6a-e846c3f89c41",
   "metadata": {},
   "outputs": [
    {
     "name": "stdout",
     "output_type": "stream",
     "text": [
      "[[1.06824605 1.18536795]\n",
      " [0.96253788 1.2994558 ]]\n"
     ]
    }
   ],
   "source": [
    "add=np.add(arr22A,arr22B)\n",
    "print(add)"
   ]
  },
  {
   "cell_type": "code",
   "execution_count": 126,
   "id": "882dab09-c679-44ee-953d-e1721c2943cd",
   "metadata": {},
   "outputs": [
    {
     "name": "stdout",
     "output_type": "stream",
     "text": [
      "[[0.27920767 0.35068623]\n",
      " [0.01773284 0.42111642]]\n"
     ]
    }
   ],
   "source": [
    "mul=arr22A*arr22B\n",
    "print(mul)"
   ]
  },
  {
   "cell_type": "code",
   "execution_count": 128,
   "id": "5619a427-d42f-4eac-a302-da7f06726549",
   "metadata": {},
   "outputs": [
    {
     "name": "stdout",
     "output_type": "stream",
     "text": [
      "[[-0.15594539 -0.04850005]\n",
      " [-0.92495828 -0.0641848 ]]\n"
     ]
    }
   ],
   "source": [
    "sub=np.subtract(arr22A,arr22B)\n",
    "print(sub)"
   ]
  },
  {
   "cell_type": "code",
   "execution_count": 130,
   "id": "2b0eec9a-775f-4e0a-a7bb-9f0d7ffad3b5",
   "metadata": {},
   "outputs": [
    {
     "name": "stdout",
     "output_type": "stream",
     "text": [
      "[[0.74522712 0.92138535]\n",
      " [0.01990976 0.90586258]]\n"
     ]
    }
   ],
   "source": [
    "div=arr22A/arr22B\n",
    "print(div)"
   ]
  },
  {
   "cell_type": "code",
   "execution_count": 152,
   "id": "6713b81a-3c09-4c1c-8ae5-a4d633c49617",
   "metadata": {},
   "outputs": [
    {
     "name": "stdout",
     "output_type": "stream",
     "text": [
      "[[b'1' b'4']\n",
      " [b'2' b'5']\n",
      " [b'3' b'6']] \n",
      " [[b'1' b'4']\n",
      " [b'2' b'5']\n",
      " [b'3' b'6']]\n"
     ]
    }
   ],
   "source": [
    "#Transpose\n",
    "arr2DT=arr2D.transpose()\n",
    "print(arr2DT,'\\n',arr2D.T)"
   ]
  },
  {
   "cell_type": "code",
   "execution_count": 140,
   "id": "4ed868d3-aba5-4f94-a669-d9e25d7999fc",
   "metadata": {},
   "outputs": [],
   "source": [
    "A=np.array([[1,2],[3,4]])\n",
    "B=np.array([[-1,0],[-3,0]])"
   ]
  },
  {
   "cell_type": "code",
   "execution_count": 146,
   "id": "9aa7b45e-cb1c-4b85-9af6-860bc3eb7324",
   "metadata": {},
   "outputs": [
    {
     "name": "stdout",
     "output_type": "stream",
     "text": [
      "[[ -7   0]\n",
      " [-15   0]] \n",
      " [[ -7   0]\n",
      " [-15   0]] \n",
      " [[ -7   0]\n",
      " [-15   0]]\n"
     ]
    }
   ],
   "source": [
    "#dt-product\n",
    "r1=np.dot(A,B)\n",
    "r2=np.matmul(A,B)\n",
    "r3=A@B\n",
    "print(r1,'\\n',r2,'\\n',r3)"
   ]
  },
  {
   "cell_type": "code",
   "execution_count": 148,
   "id": "e2dfc7d0-38ff-47b7-a323-78996c1e5797",
   "metadata": {},
   "outputs": [
    {
     "name": "stdout",
     "output_type": "stream",
     "text": [
      "[ 2 12]\n"
     ]
    }
   ],
   "source": [
    "#cross product\n",
    "r=np.cross(A,B)\n",
    "print(r)"
   ]
  },
  {
   "cell_type": "code",
   "execution_count": 154,
   "id": "d65e594d-2820-47cd-96a0-04268e35cb4c",
   "metadata": {},
   "outputs": [
    {
     "name": "stdout",
     "output_type": "stream",
     "text": [
      "-2.0000000000000004\n"
     ]
    }
   ],
   "source": [
    "#determinant\n",
    "detA=np.linalg.det(A)\n",
    "print(detA)"
   ]
  },
  {
   "cell_type": "code",
   "execution_count": 164,
   "id": "37072156-9228-44dd-9613-35a5ae8e30fc",
   "metadata": {},
   "outputs": [],
   "source": [
    "#4. Print range values in 1D and 2D.\n",
    "#5. Reshape an array. \n",
    "a=np.linspace(1,10,10)\n",
    "b=np.linspace(1,20,20).reshape(2,10)"
   ]
  },
  {
   "cell_type": "code",
   "execution_count": 166,
   "id": "47ed5856-f18d-4cf0-8e72-5d5dfdb1e3b6",
   "metadata": {},
   "outputs": [
    {
     "name": "stdout",
     "output_type": "stream",
     "text": [
      "[ 1.  2.  3.  4.  5.  6.  7.  8.  9. 10.]\n"
     ]
    }
   ],
   "source": [
    "print(a)"
   ]
  },
  {
   "cell_type": "code",
   "execution_count": 168,
   "id": "adea4184-c546-4cfd-bcf8-38d3dd15b6f5",
   "metadata": {},
   "outputs": [
    {
     "name": "stdout",
     "output_type": "stream",
     "text": [
      "[[ 1.  2.  3.  4.  5.  6.  7.  8.  9. 10.]\n",
      " [11. 12. 13. 14. 15. 16. 17. 18. 19. 20.]]\n"
     ]
    }
   ],
   "source": [
    "print(b)"
   ]
  },
  {
   "cell_type": "code",
   "execution_count": 190,
   "id": "12893a94-9590-42a8-a804-925307b224e1",
   "metadata": {},
   "outputs": [
    {
     "name": "stdout",
     "output_type": "stream",
     "text": [
      "min\n",
      "max:10.0\n",
      "sum 55.0\n",
      "mean 5.5\n",
      "median 5.5\n",
      "std 2.8722813232690143\n",
      "Mode [1.0, 2.0, 3.0, 4.0, 5.0, 6.0, 7.0, 8.0, 9.0, 10.0]\n"
     ]
    }
   ],
   "source": [
    "#6.find the min, max  sum, mean, median mode and SD\n",
    "from collections import Counter\n",
    "print('min'.format(a.min()))\n",
    "print(f'max:{a.max()}')\n",
    "print('sum',a.sum())\n",
    "print('mean',a.mean())\n",
    "print('median',np.median(a))\n",
    "print('std',np.std(a))\n",
    "print('Mode',[key for key,val in Counter(a).items() if val==max(Counter(a).values())])#all have smae max fre=1"
   ]
  },
  {
   "cell_type": "code",
   "execution_count": 192,
   "id": "f50ce32f-3695-4c88-90c5-ca776f101ec2",
   "metadata": {},
   "outputs": [],
   "source": [
    "import statistics"
   ]
  },
  {
   "cell_type": "code",
   "execution_count": 194,
   "id": "e5f9ea87-4cb8-4ac7-95ba-875bbc5b8307",
   "metadata": {},
   "outputs": [
    {
     "name": "stdout",
     "output_type": "stream",
     "text": [
      "mode 1.0\n"
     ]
    }
   ],
   "source": [
    "print('mode',statistics.mode(a))"
   ]
  },
  {
   "cell_type": "code",
   "execution_count": 196,
   "id": "8e7f5552-e37d-41c8-b719-21d67a85430d",
   "metadata": {},
   "outputs": [
    {
     "data": {
      "text/plain": [
       "'7. Create a boolean mask for values greater than 5. \\nUse the mask to filter out values less than or equal to 5. \\nCount the number of values greater than 5.'"
      ]
     },
     "execution_count": 196,
     "metadata": {},
     "output_type": "execute_result"
    }
   ],
   "source": [
    "'''7. Create a boolean mask for values greater than 5. \n",
    "Use the mask to filter out values less than or equal to 5. \n",
    "Count the number of values greater than 5.'''"
   ]
  },
  {
   "cell_type": "code",
   "execution_count": 198,
   "id": "64cf547e-ca72-4177-b50d-2b384d45fec9",
   "metadata": {},
   "outputs": [
    {
     "name": "stdout",
     "output_type": "stream",
     "text": [
      "[[False False False False False  True  True  True  True  True]\n",
      " [ True  True  True  True  True  True  True  True  True  True]]\n"
     ]
    }
   ],
   "source": [
    "mask=b>5\n",
    "print(mask)"
   ]
  },
  {
   "cell_type": "code",
   "execution_count": 208,
   "id": "ad641235-15a4-4c89-b624-c38d25a8a4be",
   "metadata": {},
   "outputs": [
    {
     "name": "stdout",
     "output_type": "stream",
     "text": [
      "[ 6.  7.  8.  9. 10. 11. 12. 13. 14. 15. 16. 17. 18. 19. 20.]\n",
      "15\n"
     ]
    }
   ],
   "source": [
    "print(b[mask])\n",
    "print(np.count_nonzero(mask))"
   ]
  },
  {
   "cell_type": "code",
   "execution_count": 202,
   "id": "c767e5bc-5822-4cb9-918e-ab1ffd37eb24",
   "metadata": {},
   "outputs": [
    {
     "data": {
      "text/plain": [
       "'8.Fancy Indexing \\nUse fancy indexing to access elements at specific indices. \\nCreate a new array by selecting every other element. '"
      ]
     },
     "execution_count": 202,
     "metadata": {},
     "output_type": "execute_result"
    }
   ],
   "source": [
    "'''8.Fancy Indexing \n",
    "Use fancy indexing to access elements at specific indices. \n",
    "Create a new array by selecting every other element. '''"
   ]
  },
  {
   "cell_type": "code",
   "execution_count": 214,
   "id": "bf06536d-ce02-4402-a409-68c4b7fb672d",
   "metadata": {},
   "outputs": [
    {
     "name": "stdout",
     "output_type": "stream",
     "text": [
      "[2. 3. 4. 6.]\n",
      "[13. 14. 15.]\n"
     ]
    }
   ],
   "source": [
    "indix=[1,2,3,5]\n",
    "print(a[indix])\n",
    "print(b[1][[2,3,4]])"
   ]
  },
  {
   "cell_type": "code",
   "execution_count": 218,
   "id": "d0985f7b-9e6b-4ab4-a47d-542a473a6a2e",
   "metadata": {},
   "outputs": [
    {
     "name": "stdout",
     "output_type": "stream",
     "text": [
      "[1. 3. 5. 7. 9.]\n"
     ]
    }
   ],
   "source": [
    "x=a[::2]\n",
    "print(x)"
   ]
  },
  {
   "cell_type": "code",
   "execution_count": 206,
   "id": "7cff3927-eb74-4367-b4df-f286f5117f2b",
   "metadata": {},
   "outputs": [
    {
     "data": {
      "text/plain": [
       "'9. structured array: \\nCreate a structured array to store information about students (name, age, and grade). \\nCreate a few sample students. \\nAccess and modify specific fields of the structured array. '"
      ]
     },
     "execution_count": 206,
     "metadata": {},
     "output_type": "execute_result"
    }
   ],
   "source": [
    "'''9. structured array: \n",
    "Create a structured array to store information about students (name, age, and grade). \n",
    "Create a few sample students. \n",
    "Access and modify specific fields of the structured array. '''"
   ]
  },
  {
   "cell_type": "code",
   "execution_count": 238,
   "id": "46903ad3-4174-40dc-8644-6f679fd5d32b",
   "metadata": {},
   "outputs": [],
   "source": [
    "#TYPE-1\n",
    "student_dtype=np.dtype([('Name','U20'),('Age','i4'),('grade','f4')])\n",
    "students=np.array([('Abi',19,10.00),('Arjun',19,9.98),('Deepthi',19,9.98)],dtype=student_dtype)"
   ]
  },
  {
   "cell_type": "code",
   "execution_count": 240,
   "id": "77295008-356a-4c2b-8f69-0693fd812430",
   "metadata": {},
   "outputs": [
    {
     "name": "stdout",
     "output_type": "stream",
     "text": [
      "[('Abi', 19, 10.  ) ('Arjun', 19,  9.98) ('Deepthi', 19,  9.98)] [('Name', '<U20'), ('Age', '<i4'), ('grade', '<f4')]\n"
     ]
    }
   ],
   "source": [
    "print(students,students.dtype)"
   ]
  },
  {
   "cell_type": "code",
   "execution_count": 248,
   "id": "954cbe3f-22b9-46f2-8583-707226b2aa28",
   "metadata": {},
   "outputs": [],
   "source": [
    "students=np.insert(students,0,('Avanthika',19,10.00))"
   ]
  },
  {
   "cell_type": "code",
   "execution_count": 250,
   "id": "05df35e0-210b-4560-bb3a-6609b1069279",
   "metadata": {},
   "outputs": [],
   "source": [
    "students[1][0]='Abirama varshini V'"
   ]
  },
  {
   "cell_type": "code",
   "execution_count": 252,
   "id": "2dbf37b3-3bb9-4d02-a72c-30714530b1a4",
   "metadata": {},
   "outputs": [
    {
     "name": "stdout",
     "output_type": "stream",
     "text": [
      "[('Avanthika', 19, 10.  ) ('Abirama varshini V', 19, 10.  )\n",
      " ('Abirama varshini V', 19,  9.98) ('Deepthi', 19,  9.98)]\n"
     ]
    }
   ],
   "source": [
    "print(students)"
   ]
  },
  {
   "cell_type": "code",
   "execution_count": 254,
   "id": "330eee2a-144c-4417-904e-551caadb9a53",
   "metadata": {},
   "outputs": [
    {
     "data": {
      "text/plain": [
       "'C:\\\\Users\\\\DELL'"
      ]
     },
     "execution_count": 254,
     "metadata": {},
     "output_type": "execute_result"
    }
   ],
   "source": [
    "import os\n",
    "os.getcwd()"
   ]
  },
  {
   "cell_type": "code",
   "execution_count": 260,
   "id": "6bb74cf3-6ab0-4c82-9f0c-a86d3340ae8f",
   "metadata": {},
   "outputs": [],
   "source": [
    "import pandas as pd"
   ]
  },
  {
   "cell_type": "code",
   "execution_count": 303,
   "id": "d26e865d-94d9-4a1a-81ff-f483647096ee",
   "metadata": {},
   "outputs": [],
   "source": [
    "#10.Linear Regression \n",
    "df=pd.read_csv('study_data.csv')"
   ]
  },
  {
   "cell_type": "code",
   "execution_count": 305,
   "id": "569b57e1-5b80-453b-a126-5b341876a46e",
   "metadata": {},
   "outputs": [
    {
     "name": "stdout",
     "output_type": "stream",
     "text": [
      "   Study Hours  Practice Tests  Score\n",
      "0            2               1     60\n",
      "1            3               2     65\n",
      "2            4               2     70\n",
      "3            5               3     75\n",
      "4            6               3     80\n"
     ]
    }
   ],
   "source": [
    "print(df)"
   ]
  },
  {
   "cell_type": "code",
   "execution_count": 307,
   "id": "292a2cfc-547d-4eaa-ac31-8fac1706e20f",
   "metadata": {},
   "outputs": [
    {
     "name": "stdout",
     "output_type": "stream",
     "text": [
      "0    60\n",
      "1    65\n",
      "2    70\n",
      "3    75\n",
      "4    80\n",
      "Name: Score, dtype: int64\n"
     ]
    }
   ],
   "source": [
    "y=df['Score']\n",
    "print(y)"
   ]
  },
  {
   "cell_type": "code",
   "execution_count": 309,
   "id": "c614d466-3ff5-4cd7-9f99-b7fb0aca55ce",
   "metadata": {},
   "outputs": [
    {
     "name": "stdout",
     "output_type": "stream",
     "text": [
      "   Study Hours  Practice Tests\n",
      "0            2               1\n",
      "1            3               2\n",
      "2            4               2\n",
      "3            5               3\n",
      "4            6               3\n"
     ]
    }
   ],
   "source": [
    "X=df[['Study Hours','Practice Tests']]\n",
    "print(X)"
   ]
  },
  {
   "cell_type": "code",
   "execution_count": 311,
   "id": "5352c9dc-dbe8-4c5a-a597-da54658f6fb8",
   "metadata": {},
   "outputs": [],
   "source": [
    "x=np.ones(5).reshape(5,1)"
   ]
  },
  {
   "cell_type": "code",
   "execution_count": 313,
   "id": "7de5d638-8d48-441c-96d1-7cd7dbeb520d",
   "metadata": {},
   "outputs": [
    {
     "name": "stdout",
     "output_type": "stream",
     "text": [
      "[[1.]\n",
      " [1.]\n",
      " [1.]\n",
      " [1.]\n",
      " [1.]]\n"
     ]
    }
   ],
   "source": [
    "print(x)"
   ]
  },
  {
   "cell_type": "code",
   "execution_count": 315,
   "id": "f4ec28a5-2b14-4965-a25f-788d495f442f",
   "metadata": {},
   "outputs": [],
   "source": [
    "X=np.hstack((x,X))"
   ]
  },
  {
   "cell_type": "code",
   "execution_count": 319,
   "id": "95cd72af-8d4e-4e5b-b769-319d064b332b",
   "metadata": {},
   "outputs": [
    {
     "name": "stdout",
     "output_type": "stream",
     "text": [
      "[[1. 2. 1.]\n",
      " [1. 3. 2.]\n",
      " [1. 4. 2.]\n",
      " [1. 5. 3.]\n",
      " [1. 6. 3.]] [[1. 1. 1. 1. 1.]\n",
      " [2. 3. 4. 5. 6.]\n",
      " [1. 2. 2. 3. 3.]]\n"
     ]
    }
   ],
   "source": [
    "print(X,X.T)"
   ]
  },
  {
   "cell_type": "code",
   "execution_count": 323,
   "id": "78bf6ce7-b67a-46f5-92af-1555e60a1bff",
   "metadata": {},
   "outputs": [
    {
     "name": "stdout",
     "output_type": "stream",
     "text": [
      "[ 5.00000000e+01  5.00000000e+00 -4.33431069e-13]\n"
     ]
    }
   ],
   "source": [
    "def cal_normal_eq(X,y):\n",
    "    Xt=X.T\n",
    "    xin=Xt@X\n",
    "    xinv=np.linalg.inv(xin)\n",
    "    return xinv@Xt@y\n",
    "W=cal_normal_eq(X,y)\n",
    "print(W)"
   ]
  },
  {
   "cell_type": "code",
   "execution_count": null,
   "id": "a929a6e6-5f32-4f6b-9d08-6e3b747db268",
   "metadata": {},
   "outputs": [],
   "source": []
  }
 ],
 "metadata": {
  "kernelspec": {
   "display_name": "myenv",
   "language": "python",
   "name": "myenv"
  },
  "language_info": {
   "codemirror_mode": {
    "name": "ipython",
    "version": 3
   },
   "file_extension": ".py",
   "mimetype": "text/x-python",
   "name": "python",
   "nbconvert_exporter": "python",
   "pygments_lexer": "ipython3",
   "version": "3.12.7"
  }
 },
 "nbformat": 4,
 "nbformat_minor": 5
}
