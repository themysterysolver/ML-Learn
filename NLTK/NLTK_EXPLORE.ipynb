{
  "nbformat": 4,
  "nbformat_minor": 0,
  "metadata": {
    "colab": {
      "provenance": [],
      "authorship_tag": "ABX9TyPqydAfT4HoEHgsGbMt3/GB",
      "include_colab_link": true
    },
    "kernelspec": {
      "name": "python3",
      "display_name": "Python 3"
    },
    "language_info": {
      "name": "python"
    }
  },
  "cells": [
    {
      "cell_type": "markdown",
      "metadata": {
        "id": "view-in-github",
        "colab_type": "text"
      },
      "source": [
        "<a href=\"https://colab.research.google.com/github/themysterysolver-bot/ML-Learn/blob/main/NLTK/NLTK_EXPLORE.ipynb\" target=\"_parent\"><img src=\"https://colab.research.google.com/assets/colab-badge.svg\" alt=\"Open In Colab\"/></a>"
      ]
    },
    {
      "cell_type": "markdown",
      "source": [
        "### NLTK EXPLORE"
      ],
      "metadata": {
        "id": "abgQ9B0YsQa8"
      }
    },
    {
      "cell_type": "markdown",
      "source": [
        "TEXT PRE PROCESSING"
      ],
      "metadata": {
        "id": "rFhHDlvOhsk8"
      }
    },
    {
      "cell_type": "code",
      "source": [
        "para=\"My soldiers scream out. My soldiers rage!\""
      ],
      "metadata": {
        "id": "185VoBGtiRjr"
      },
      "execution_count": 27,
      "outputs": []
    },
    {
      "cell_type": "code",
      "source": [
        "!pip install nltk"
      ],
      "metadata": {
        "id": "lMT5ngKgilQQ"
      },
      "execution_count": null,
      "outputs": []
    },
    {
      "cell_type": "code",
      "source": [
        "import nltk\n",
        "nltk.download('punkt_tab')"
      ],
      "metadata": {
        "id": "Iu9yV0VajIhM"
      },
      "execution_count": null,
      "outputs": []
    },
    {
      "cell_type": "code",
      "execution_count": 35,
      "metadata": {
        "colab": {
          "base_uri": "https://localhost:8080/"
        },
        "id": "wSR7CLFwgnKi",
        "outputId": "a29949af-657d-4414-b854-80d467939c30"
      },
      "outputs": [
        {
          "output_type": "execute_result",
          "data": {
            "text/plain": [
              "['My', 'soldiers', 'scream', 'out', '.', 'My', 'soldiers', 'rage', '!']"
            ]
          },
          "metadata": {},
          "execution_count": 35
        }
      ],
      "source": [
        "from nltk.tokenize import word_tokenize, sent_tokenize,WhitespaceTokenizer,RegexpTokenizer,wordpunct_tokenize\n",
        "word_tokenize(para)"
      ]
    },
    {
      "cell_type": "code",
      "source": [
        "sent_tokenize(para)"
      ],
      "metadata": {
        "colab": {
          "base_uri": "https://localhost:8080/"
        },
        "id": "A6gtvY62icvj",
        "outputId": "9c83f1e8-5d64-4871-9936-f387ba12c381"
      },
      "execution_count": 32,
      "outputs": [
        {
          "output_type": "execute_result",
          "data": {
            "text/plain": [
              "['My soldiers scream out.', 'My soldiers rage!']"
            ]
          },
          "metadata": {},
          "execution_count": 32
        }
      ]
    },
    {
      "cell_type": "code",
      "source": [
        "WhitespaceTokenizer().tokenize(para)"
      ],
      "metadata": {
        "colab": {
          "base_uri": "https://localhost:8080/"
        },
        "id": "yEIIli30kKzX",
        "outputId": "5ef06b9d-8d06-48f8-ce35-01f197719841"
      },
      "execution_count": 34,
      "outputs": [
        {
          "output_type": "execute_result",
          "data": {
            "text/plain": [
              "['My', 'soldiers', 'scream', 'out.', 'My', 'soldiers', 'rage!']"
            ]
          },
          "metadata": {},
          "execution_count": 34
        }
      ]
    },
    {
      "cell_type": "code",
      "source": [
        "wordpunct_tokenize(para)"
      ],
      "metadata": {
        "colab": {
          "base_uri": "https://localhost:8080/"
        },
        "id": "xLnynBdBk1NE",
        "outputId": "7a661615-3e57-445a-8156-192a66b892f1"
      },
      "execution_count": 36,
      "outputs": [
        {
          "output_type": "execute_result",
          "data": {
            "text/plain": [
              "['My', 'soldiers', 'scream', 'out', '.', 'My', 'soldiers', 'rage', '!']"
            ]
          },
          "metadata": {},
          "execution_count": 36
        }
      ]
    },
    {
      "cell_type": "code",
      "source": [
        "RegexpTokenizer(r'\\.+',gaps=True).tokenize(para)"
      ],
      "metadata": {
        "colab": {
          "base_uri": "https://localhost:8080/"
        },
        "id": "Oy-Cagw7lTVn",
        "outputId": "d6b1c96d-6a41-4075-a1e2-2f4a3fdfd363"
      },
      "execution_count": 40,
      "outputs": [
        {
          "output_type": "execute_result",
          "data": {
            "text/plain": [
              "['My soldiers scream out', ' My soldiers rage!']"
            ]
          },
          "metadata": {},
          "execution_count": 40
        }
      ]
    },
    {
      "cell_type": "markdown",
      "source": [
        "CLEANSING"
      ],
      "metadata": {
        "id": "_GKGiXC_mTy1"
      }
    },
    {
      "cell_type": "code",
      "source": [
        "import nltk\n",
        "nltk.download('punkt')\n",
        "nltk.download('stopwords')\n",
        "nltk.download('wordnet')\n",
        "nltk.download('omw-1.4')"
      ],
      "metadata": {
        "colab": {
          "base_uri": "https://localhost:8080/"
        },
        "id": "5_dO1F7_nYdW",
        "outputId": "5f229ff6-f1df-494a-cf71-0616681bd2c6"
      },
      "execution_count": 67,
      "outputs": [
        {
          "output_type": "stream",
          "name": "stderr",
          "text": [
            "[nltk_data] Downloading package punkt to /root/nltk_data...\n",
            "[nltk_data]   Package punkt is already up-to-date!\n",
            "[nltk_data] Downloading package stopwords to /root/nltk_data...\n",
            "[nltk_data]   Package stopwords is already up-to-date!\n",
            "[nltk_data] Downloading package wordnet to /root/nltk_data...\n",
            "[nltk_data] Downloading package omw-1.4 to /root/nltk_data...\n"
          ]
        },
        {
          "output_type": "execute_result",
          "data": {
            "text/plain": [
              "True"
            ]
          },
          "metadata": {},
          "execution_count": 67
        }
      ]
    },
    {
      "cell_type": "code",
      "source": [
        "from nltk.corpus import stopwords\n",
        "from nltk.stem import PorterStemmer,WordNetLemmatizer"
      ],
      "metadata": {
        "id": "EqR9GeMKmW2b"
      },
      "execution_count": 68,
      "outputs": []
    },
    {
      "cell_type": "code",
      "source": [
        "para.lower()"
      ],
      "metadata": {
        "colab": {
          "base_uri": "https://localhost:8080/",
          "height": 36
        },
        "id": "oTzm-QkJliFU",
        "outputId": "d63c23d4-65fc-4e81-e107-d871fdd4e73d"
      },
      "execution_count": 41,
      "outputs": [
        {
          "output_type": "execute_result",
          "data": {
            "text/plain": [
              "'my soldiers scream out. my soldiers rage!'"
            ],
            "application/vnd.google.colaboratory.intrinsic+json": {
              "type": "string"
            }
          },
          "metadata": {},
          "execution_count": 41
        }
      ]
    },
    {
      "cell_type": "code",
      "source": [
        "stop_checker=\"a the an is was a The goated! And abd is Mr.360\"\n",
        "tokens=word_tokenize(stop_checker.lower())\n",
        "print(tokens)"
      ],
      "metadata": {
        "colab": {
          "base_uri": "https://localhost:8080/"
        },
        "id": "FQEMrfENmpcR",
        "outputId": "0b0914e2-0aae-4bc6-ef65-0dc9be7a24ac"
      },
      "execution_count": 62,
      "outputs": [
        {
          "output_type": "stream",
          "name": "stdout",
          "text": [
            "['a', 'the', 'an', 'is', 'was', 'a', 'the', 'goated', '!', 'and', 'abd', 'is', 'mr.360']\n"
          ]
        }
      ]
    },
    {
      "cell_type": "code",
      "source": [
        "[word for word in tokens if word not in stopwords.words('english')]"
      ],
      "metadata": {
        "colab": {
          "base_uri": "https://localhost:8080/"
        },
        "id": "GgXilNFJmu1X",
        "outputId": "24bfcdc9-04dc-43fb-e59c-73d6fd05e451"
      },
      "execution_count": 63,
      "outputs": [
        {
          "output_type": "execute_result",
          "data": {
            "text/plain": [
              "['goated', '!', 'abd', 'mr.360']"
            ]
          },
          "metadata": {},
          "execution_count": 63
        }
      ]
    },
    {
      "cell_type": "code",
      "source": [
        "import re\n",
        "w=[word for word in tokens if word not in stopwords.words('english')]\n",
        "str_digits_removed=re.sub(r'\\d+','',' '.join(w))\n",
        "print(str_digits_removed)"
      ],
      "metadata": {
        "colab": {
          "base_uri": "https://localhost:8080/"
        },
        "id": "8TO4JttinUZK",
        "outputId": "e5e1f6bb-498e-449a-eb7e-176f8b23138d"
      },
      "execution_count": 64,
      "outputs": [
        {
          "output_type": "stream",
          "name": "stdout",
          "text": [
            "goated ! abd mr.\n"
          ]
        }
      ]
    },
    {
      "cell_type": "code",
      "source": [
        "[PorterStemmer().stem(word) for word in tokens if word not in stopwords.words('english')]"
      ],
      "metadata": {
        "colab": {
          "base_uri": "https://localhost:8080/"
        },
        "id": "tlDKl_qintrh",
        "outputId": "723ad1b9-4321-4879-9674-532205836ccd"
      },
      "execution_count": 65,
      "outputs": [
        {
          "output_type": "execute_result",
          "data": {
            "text/plain": [
              "['goat', '!', 'abd', 'mr.360']"
            ]
          },
          "metadata": {},
          "execution_count": 65
        }
      ]
    },
    {
      "cell_type": "code",
      "source": [
        "[WordNetLemmatizer().lemmatize(word) for word in tokens if word not in stopwords.words('english')]"
      ],
      "metadata": {
        "colab": {
          "base_uri": "https://localhost:8080/"
        },
        "id": "N59yvbkko3sf",
        "outputId": "daabafa4-efb7-4358-df3a-b3c38f264d0d"
      },
      "execution_count": 70,
      "outputs": [
        {
          "output_type": "execute_result",
          "data": {
            "text/plain": [
              "['goated', '!', 'abd', 'mr.360']"
            ]
          },
          "metadata": {},
          "execution_count": 70
        }
      ]
    },
    {
      "cell_type": "markdown",
      "source": [
        "POS TAGGING"
      ],
      "metadata": {
        "id": "eFxg3HyQpqsQ"
      }
    },
    {
      "cell_type": "code",
      "source": [
        "import nltk\n",
        "nltk.download('averaged_perceptron_tagger_eng',force=True)"
      ],
      "metadata": {
        "colab": {
          "base_uri": "https://localhost:8080/"
        },
        "id": "sChNBg9TpgIi",
        "outputId": "433a7297-af87-4c13-8f8d-b178da8ce346"
      },
      "execution_count": 89,
      "outputs": [
        {
          "output_type": "stream",
          "name": "stderr",
          "text": [
            "[nltk_data] Downloading package averaged_perceptron_tagger_eng to\n",
            "[nltk_data]     /root/nltk_data...\n",
            "[nltk_data]   Unzipping taggers/averaged_perceptron_tagger_eng.zip.\n"
          ]
        },
        {
          "output_type": "execute_result",
          "data": {
            "text/plain": [
              "True"
            ]
          },
          "metadata": {},
          "execution_count": 89
        }
      ]
    },
    {
      "cell_type": "code",
      "source": [
        "from nltk import pos_tag,word_tokenize"
      ],
      "metadata": {
        "id": "YbhA2RD5q7Ch"
      },
      "execution_count": 90,
      "outputs": []
    },
    {
      "cell_type": "code",
      "source": [
        "pos_check=\"I loved a girl.Beuatiful and sweet,I never knew you were the one waiting for me!!\"\n",
        "pos_tag(word_tokenize(pos_check))"
      ],
      "metadata": {
        "colab": {
          "base_uri": "https://localhost:8080/"
        },
        "id": "2xIGO3eBqa0d",
        "outputId": "969e0ed7-0eea-4c59-dac3-0a8708b35576"
      },
      "execution_count": 91,
      "outputs": [
        {
          "output_type": "execute_result",
          "data": {
            "text/plain": [
              "[('I', 'PRP'),\n",
              " ('loved', 'VBD'),\n",
              " ('a', 'DT'),\n",
              " ('girl.Beuatiful', 'JJ'),\n",
              " ('and', 'CC'),\n",
              " ('sweet', 'JJ'),\n",
              " (',', ','),\n",
              " ('I', 'PRP'),\n",
              " ('never', 'RB'),\n",
              " ('knew', 'VBD'),\n",
              " ('you', 'PRP'),\n",
              " ('were', 'VBD'),\n",
              " ('the', 'DT'),\n",
              " ('one', 'CD'),\n",
              " ('waiting', 'NN'),\n",
              " ('for', 'IN'),\n",
              " ('me', 'PRP'),\n",
              " ('!', '.'),\n",
              " ('!', '.')]"
            ]
          },
          "metadata": {},
          "execution_count": 91
        }
      ]
    },
    {
      "cell_type": "markdown",
      "source": [
        "NER(Named Entity relation)"
      ],
      "metadata": {
        "id": "Ne0IJ7CFsIEt"
      }
    },
    {
      "cell_type": "code",
      "source": [],
      "metadata": {
        "id": "fFCSD-RkqzQ4"
      },
      "execution_count": null,
      "outputs": []
    }
  ]
}