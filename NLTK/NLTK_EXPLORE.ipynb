{
  "nbformat": 4,
  "nbformat_minor": 0,
  "metadata": {
    "colab": {
      "provenance": [],
      "authorship_tag": "ABX9TyNlgcwA3fUll8mIKYk4gBlJ",
      "include_colab_link": true
    },
    "kernelspec": {
      "name": "python3",
      "display_name": "Python 3"
    },
    "language_info": {
      "name": "python"
    }
  },
  "cells": [
    {
      "cell_type": "markdown",
      "metadata": {
        "id": "view-in-github",
        "colab_type": "text"
      },
      "source": [
        "<a href=\"https://colab.research.google.com/github/themysterysolver-bot/ML-Learn/blob/main/NLTK/NLTK_EXPLORE.ipynb\" target=\"_parent\"><img src=\"https://colab.research.google.com/assets/colab-badge.svg\" alt=\"Open In Colab\"/></a>"
      ]
    },
    {
      "cell_type": "markdown",
      "source": [
        "### NLTK EXPLORE"
      ],
      "metadata": {
        "id": "abgQ9B0YsQa8"
      }
    },
    {
      "cell_type": "markdown",
      "source": [
        "TEXT PRE PROCESSING"
      ],
      "metadata": {
        "id": "rFhHDlvOhsk8"
      }
    },
    {
      "cell_type": "code",
      "source": [
        "para=\"My soldiers scream out. My soldiers rage!\""
      ],
      "metadata": {
        "id": "185VoBGtiRjr"
      },
      "execution_count": 27,
      "outputs": []
    },
    {
      "cell_type": "code",
      "source": [
        "!pip install nltk"
      ],
      "metadata": {
        "id": "lMT5ngKgilQQ"
      },
      "execution_count": null,
      "outputs": []
    },
    {
      "cell_type": "code",
      "source": [
        "import nltk\n",
        "nltk.download('punkt_tab')"
      ],
      "metadata": {
        "id": "Iu9yV0VajIhM"
      },
      "execution_count": null,
      "outputs": []
    },
    {
      "cell_type": "code",
      "execution_count": 35,
      "metadata": {
        "colab": {
          "base_uri": "https://localhost:8080/"
        },
        "id": "wSR7CLFwgnKi",
        "outputId": "a29949af-657d-4414-b854-80d467939c30"
      },
      "outputs": [
        {
          "output_type": "execute_result",
          "data": {
            "text/plain": [
              "['My', 'soldiers', 'scream', 'out', '.', 'My', 'soldiers', 'rage', '!']"
            ]
          },
          "metadata": {},
          "execution_count": 35
        }
      ],
      "source": [
        "from nltk.tokenize import word_tokenize, sent_tokenize,WhitespaceTokenizer,RegexpTokenizer,wordpunct_tokenize\n",
        "word_tokenize(para)"
      ]
    },
    {
      "cell_type": "code",
      "source": [
        "sent_tokenize(para)"
      ],
      "metadata": {
        "colab": {
          "base_uri": "https://localhost:8080/"
        },
        "id": "A6gtvY62icvj",
        "outputId": "9c83f1e8-5d64-4871-9936-f387ba12c381"
      },
      "execution_count": 32,
      "outputs": [
        {
          "output_type": "execute_result",
          "data": {
            "text/plain": [
              "['My soldiers scream out.', 'My soldiers rage!']"
            ]
          },
          "metadata": {},
          "execution_count": 32
        }
      ]
    },
    {
      "cell_type": "code",
      "source": [
        "WhitespaceTokenizer().tokenize(para)"
      ],
      "metadata": {
        "colab": {
          "base_uri": "https://localhost:8080/"
        },
        "id": "yEIIli30kKzX",
        "outputId": "5ef06b9d-8d06-48f8-ce35-01f197719841"
      },
      "execution_count": 34,
      "outputs": [
        {
          "output_type": "execute_result",
          "data": {
            "text/plain": [
              "['My', 'soldiers', 'scream', 'out.', 'My', 'soldiers', 'rage!']"
            ]
          },
          "metadata": {},
          "execution_count": 34
        }
      ]
    },
    {
      "cell_type": "code",
      "source": [
        "wordpunct_tokenize(para)"
      ],
      "metadata": {
        "colab": {
          "base_uri": "https://localhost:8080/"
        },
        "id": "xLnynBdBk1NE",
        "outputId": "7a661615-3e57-445a-8156-192a66b892f1"
      },
      "execution_count": 36,
      "outputs": [
        {
          "output_type": "execute_result",
          "data": {
            "text/plain": [
              "['My', 'soldiers', 'scream', 'out', '.', 'My', 'soldiers', 'rage', '!']"
            ]
          },
          "metadata": {},
          "execution_count": 36
        }
      ]
    },
    {
      "cell_type": "code",
      "source": [
        "RegexpTokenizer(r'\\.+',gaps=True).tokenize(para)"
      ],
      "metadata": {
        "colab": {
          "base_uri": "https://localhost:8080/"
        },
        "id": "Oy-Cagw7lTVn",
        "outputId": "d6b1c96d-6a41-4075-a1e2-2f4a3fdfd363"
      },
      "execution_count": 40,
      "outputs": [
        {
          "output_type": "execute_result",
          "data": {
            "text/plain": [
              "['My soldiers scream out', ' My soldiers rage!']"
            ]
          },
          "metadata": {},
          "execution_count": 40
        }
      ]
    },
    {
      "cell_type": "markdown",
      "source": [
        "CLEANSING"
      ],
      "metadata": {
        "id": "_GKGiXC_mTy1"
      }
    },
    {
      "cell_type": "code",
      "source": [
        "import nltk\n",
        "nltk.download('punkt')\n",
        "nltk.download('stopwords')\n",
        "nltk.download('wordnet')\n",
        "nltk.download('omw-1.4')"
      ],
      "metadata": {
        "colab": {
          "base_uri": "https://localhost:8080/"
        },
        "id": "5_dO1F7_nYdW",
        "outputId": "5f229ff6-f1df-494a-cf71-0616681bd2c6"
      },
      "execution_count": 67,
      "outputs": [
        {
          "output_type": "stream",
          "name": "stderr",
          "text": [
            "[nltk_data] Downloading package punkt to /root/nltk_data...\n",
            "[nltk_data]   Package punkt is already up-to-date!\n",
            "[nltk_data] Downloading package stopwords to /root/nltk_data...\n",
            "[nltk_data]   Package stopwords is already up-to-date!\n",
            "[nltk_data] Downloading package wordnet to /root/nltk_data...\n",
            "[nltk_data] Downloading package omw-1.4 to /root/nltk_data...\n"
          ]
        },
        {
          "output_type": "execute_result",
          "data": {
            "text/plain": [
              "True"
            ]
          },
          "metadata": {},
          "execution_count": 67
        }
      ]
    },
    {
      "cell_type": "code",
      "source": [
        "from nltk.corpus import stopwords\n",
        "from nltk.stem import PorterStemmer,WordNetLemmatizer"
      ],
      "metadata": {
        "id": "EqR9GeMKmW2b"
      },
      "execution_count": 68,
      "outputs": []
    },
    {
      "cell_type": "code",
      "source": [
        "para.lower()"
      ],
      "metadata": {
        "colab": {
          "base_uri": "https://localhost:8080/",
          "height": 36
        },
        "id": "oTzm-QkJliFU",
        "outputId": "d63c23d4-65fc-4e81-e107-d871fdd4e73d"
      },
      "execution_count": 41,
      "outputs": [
        {
          "output_type": "execute_result",
          "data": {
            "text/plain": [
              "'my soldiers scream out. my soldiers rage!'"
            ],
            "application/vnd.google.colaboratory.intrinsic+json": {
              "type": "string"
            }
          },
          "metadata": {},
          "execution_count": 41
        }
      ]
    },
    {
      "cell_type": "code",
      "source": [
        "stop_checker=\"a the an is was a The goated! And abd is Mr.360\"\n",
        "tokens=word_tokenize(stop_checker.lower())\n",
        "print(tokens)"
      ],
      "metadata": {
        "colab": {
          "base_uri": "https://localhost:8080/"
        },
        "id": "FQEMrfENmpcR",
        "outputId": "0b0914e2-0aae-4bc6-ef65-0dc9be7a24ac"
      },
      "execution_count": 62,
      "outputs": [
        {
          "output_type": "stream",
          "name": "stdout",
          "text": [
            "['a', 'the', 'an', 'is', 'was', 'a', 'the', 'goated', '!', 'and', 'abd', 'is', 'mr.360']\n"
          ]
        }
      ]
    },
    {
      "cell_type": "code",
      "source": [
        "[word for word in tokens if word not in stopwords.words('english')]"
      ],
      "metadata": {
        "colab": {
          "base_uri": "https://localhost:8080/"
        },
        "id": "GgXilNFJmu1X",
        "outputId": "24bfcdc9-04dc-43fb-e59c-73d6fd05e451"
      },
      "execution_count": 63,
      "outputs": [
        {
          "output_type": "execute_result",
          "data": {
            "text/plain": [
              "['goated', '!', 'abd', 'mr.360']"
            ]
          },
          "metadata": {},
          "execution_count": 63
        }
      ]
    },
    {
      "cell_type": "code",
      "source": [
        "import re\n",
        "w=[word for word in tokens if word not in stopwords.words('english')]\n",
        "str_digits_removed=re.sub(r'\\d+','',' '.join(w))\n",
        "print(str_digits_removed)"
      ],
      "metadata": {
        "colab": {
          "base_uri": "https://localhost:8080/"
        },
        "id": "8TO4JttinUZK",
        "outputId": "e5e1f6bb-498e-449a-eb7e-176f8b23138d"
      },
      "execution_count": 64,
      "outputs": [
        {
          "output_type": "stream",
          "name": "stdout",
          "text": [
            "goated ! abd mr.\n"
          ]
        }
      ]
    },
    {
      "cell_type": "code",
      "source": [
        "[PorterStemmer().stem(word) for word in tokens if word not in stopwords.words('english')]"
      ],
      "metadata": {
        "colab": {
          "base_uri": "https://localhost:8080/"
        },
        "id": "tlDKl_qintrh",
        "outputId": "723ad1b9-4321-4879-9674-532205836ccd"
      },
      "execution_count": 65,
      "outputs": [
        {
          "output_type": "execute_result",
          "data": {
            "text/plain": [
              "['goat', '!', 'abd', 'mr.360']"
            ]
          },
          "metadata": {},
          "execution_count": 65
        }
      ]
    },
    {
      "cell_type": "code",
      "source": [
        "[WordNetLemmatizer().lemmatize(word) for word in tokens if word not in stopwords.words('english')]"
      ],
      "metadata": {
        "colab": {
          "base_uri": "https://localhost:8080/"
        },
        "id": "N59yvbkko3sf",
        "outputId": "daabafa4-efb7-4358-df3a-b3c38f264d0d"
      },
      "execution_count": 70,
      "outputs": [
        {
          "output_type": "execute_result",
          "data": {
            "text/plain": [
              "['goated', '!', 'abd', 'mr.360']"
            ]
          },
          "metadata": {},
          "execution_count": 70
        }
      ]
    },
    {
      "cell_type": "markdown",
      "source": [
        "POS TAGGING"
      ],
      "metadata": {
        "id": "eFxg3HyQpqsQ"
      }
    },
    {
      "cell_type": "code",
      "source": [
        "import nltk\n",
        "nltk.download('averaged_perceptron_tagger_eng',force=True)"
      ],
      "metadata": {
        "colab": {
          "base_uri": "https://localhost:8080/"
        },
        "id": "sChNBg9TpgIi",
        "outputId": "433a7297-af87-4c13-8f8d-b178da8ce346"
      },
      "execution_count": 89,
      "outputs": [
        {
          "output_type": "stream",
          "name": "stderr",
          "text": [
            "[nltk_data] Downloading package averaged_perceptron_tagger_eng to\n",
            "[nltk_data]     /root/nltk_data...\n",
            "[nltk_data]   Unzipping taggers/averaged_perceptron_tagger_eng.zip.\n"
          ]
        },
        {
          "output_type": "execute_result",
          "data": {
            "text/plain": [
              "True"
            ]
          },
          "metadata": {},
          "execution_count": 89
        }
      ]
    },
    {
      "cell_type": "code",
      "source": [
        "from nltk import pos_tag,word_tokenize"
      ],
      "metadata": {
        "id": "YbhA2RD5q7Ch"
      },
      "execution_count": 90,
      "outputs": []
    },
    {
      "cell_type": "code",
      "source": [
        "pos_check=\"I loved a girl.Beuatiful and sweet,I never knew you were the one waiting for me!!\"\n",
        "pos_tag(word_tokenize(pos_check))"
      ],
      "metadata": {
        "colab": {
          "base_uri": "https://localhost:8080/"
        },
        "id": "2xIGO3eBqa0d",
        "outputId": "969e0ed7-0eea-4c59-dac3-0a8708b35576"
      },
      "execution_count": 91,
      "outputs": [
        {
          "output_type": "execute_result",
          "data": {
            "text/plain": [
              "[('I', 'PRP'),\n",
              " ('loved', 'VBD'),\n",
              " ('a', 'DT'),\n",
              " ('girl.Beuatiful', 'JJ'),\n",
              " ('and', 'CC'),\n",
              " ('sweet', 'JJ'),\n",
              " (',', ','),\n",
              " ('I', 'PRP'),\n",
              " ('never', 'RB'),\n",
              " ('knew', 'VBD'),\n",
              " ('you', 'PRP'),\n",
              " ('were', 'VBD'),\n",
              " ('the', 'DT'),\n",
              " ('one', 'CD'),\n",
              " ('waiting', 'NN'),\n",
              " ('for', 'IN'),\n",
              " ('me', 'PRP'),\n",
              " ('!', '.'),\n",
              " ('!', '.')]"
            ]
          },
          "metadata": {},
          "execution_count": 91
        }
      ]
    },
    {
      "cell_type": "markdown",
      "source": [
        "NER(Named Entity relation)"
      ],
      "metadata": {
        "id": "Ne0IJ7CFsIEt"
      }
    },
    {
      "cell_type": "code",
      "source": [
        "nltk.download('maxent_ne_chunker_tab')\n",
        "nltk.download('words')"
      ],
      "metadata": {
        "colab": {
          "base_uri": "https://localhost:8080/"
        },
        "id": "G5IwM3B6tm3i",
        "outputId": "0e4fe14f-ef7b-408d-ff8f-97fc4dd281c6"
      },
      "execution_count": 97,
      "outputs": [
        {
          "output_type": "stream",
          "name": "stderr",
          "text": [
            "[nltk_data] Downloading package maxent_ne_chunker_tab to\n",
            "[nltk_data]     /root/nltk_data...\n",
            "[nltk_data]   Package maxent_ne_chunker_tab is already up-to-date!\n",
            "[nltk_data] Downloading package words to /root/nltk_data...\n",
            "[nltk_data]   Unzipping corpora/words.zip.\n"
          ]
        },
        {
          "output_type": "execute_result",
          "data": {
            "text/plain": [
              "True"
            ]
          },
          "metadata": {},
          "execution_count": 97
        }
      ]
    },
    {
      "cell_type": "code",
      "source": [
        "from nltk import ne_chunk\n",
        "from nltk.tree import Tree"
      ],
      "metadata": {
        "id": "fFCSD-RkqzQ4"
      },
      "execution_count": 92,
      "outputs": []
    },
    {
      "cell_type": "code",
      "source": [
        "sentence = pos_tag(word_tokenize(\"Barack Obama was the unique and noble president of the USA.\"))\n",
        "tree = ne_chunk(sentence)\n",
        "print(tree)"
      ],
      "metadata": {
        "colab": {
          "base_uri": "https://localhost:8080/"
        },
        "id": "ZW2pUShgthVb",
        "outputId": "afc5b67a-08f1-4b0c-f095-13c09311abcc"
      },
      "execution_count": 100,
      "outputs": [
        {
          "output_type": "stream",
          "name": "stdout",
          "text": [
            "(S\n",
            "  (PERSON Barack/NNP)\n",
            "  (PERSON Obama/NNP)\n",
            "  was/VBD\n",
            "  the/DT\n",
            "  unique/JJ\n",
            "  and/CC\n",
            "  noble/JJ\n",
            "  president/NN\n",
            "  of/IN\n",
            "  the/DT\n",
            "  (ORGANIZATION USA/NNP)\n",
            "  ./.)\n"
          ]
        }
      ]
    },
    {
      "cell_type": "markdown",
      "source": [
        "CORPUS AND WORDNET"
      ],
      "metadata": {
        "id": "wlwRKRlht-nP"
      }
    },
    {
      "cell_type": "code",
      "source": [
        "nltk.download('gutenberg')"
      ],
      "metadata": {
        "colab": {
          "base_uri": "https://localhost:8080/"
        },
        "id": "aq_FWizWuDQC",
        "outputId": "826d6531-9778-4e6b-9a22-9c9ae4b40aab"
      },
      "execution_count": 102,
      "outputs": [
        {
          "output_type": "stream",
          "name": "stderr",
          "text": [
            "[nltk_data] Downloading package gutenberg to /root/nltk_data...\n",
            "[nltk_data]   Unzipping corpora/gutenberg.zip.\n"
          ]
        },
        {
          "output_type": "execute_result",
          "data": {
            "text/plain": [
              "True"
            ]
          },
          "metadata": {},
          "execution_count": 102
        }
      ]
    },
    {
      "cell_type": "code",
      "source": [
        "from nltk.corpus import wordnet\n",
        "import nltk\n",
        "nltk.download('wordnet')"
      ],
      "metadata": {
        "colab": {
          "base_uri": "https://localhost:8080/"
        },
        "id": "pqCZQwhKua3e",
        "outputId": "17b06d12-6a54-421d-ee51-5bbe2b1a9324"
      },
      "execution_count": 104,
      "outputs": [
        {
          "output_type": "stream",
          "name": "stderr",
          "text": [
            "[nltk_data] Downloading package wordnet to /root/nltk_data...\n",
            "[nltk_data]   Package wordnet is already up-to-date!\n"
          ]
        },
        {
          "output_type": "execute_result",
          "data": {
            "text/plain": [
              "True"
            ]
          },
          "metadata": {},
          "execution_count": 104
        }
      ]
    },
    {
      "cell_type": "code",
      "source": [
        "from nltk.corpus import gutenberg\n",
        "gutenberg.words('austen-emma.txt')"
      ],
      "metadata": {
        "colab": {
          "base_uri": "https://localhost:8080/"
        },
        "id": "Svl-Mvxntju3",
        "outputId": "4752aecb-72f4-4fed-9929-5607c7cc50f7"
      },
      "execution_count": 105,
      "outputs": [
        {
          "output_type": "execute_result",
          "data": {
            "text/plain": [
              "['[', 'Emma', 'by', 'Jane', 'Austen', '1816', ']', ...]"
            ]
          },
          "metadata": {},
          "execution_count": 105
        }
      ]
    },
    {
      "cell_type": "code",
      "source": [
        "wordnet.synsets('love')"
      ],
      "metadata": {
        "colab": {
          "base_uri": "https://localhost:8080/"
        },
        "id": "p5RsHAT7uBSw",
        "outputId": "60455f28-6a14-4262-e741-c2d447fe89c5"
      },
      "execution_count": 108,
      "outputs": [
        {
          "output_type": "execute_result",
          "data": {
            "text/plain": [
              "[Synset('love.n.01'),\n",
              " Synset('love.n.02'),\n",
              " Synset('beloved.n.01'),\n",
              " Synset('love.n.04'),\n",
              " Synset('love.n.05'),\n",
              " Synset('sexual_love.n.02'),\n",
              " Synset('love.v.01'),\n",
              " Synset('love.v.02'),\n",
              " Synset('love.v.03'),\n",
              " Synset('sleep_together.v.01')]"
            ]
          },
          "metadata": {},
          "execution_count": 108
        }
      ]
    },
    {
      "cell_type": "code",
      "source": [
        "for sys in wordnet.synsets('love'):\n",
        "    print(sys.name(),sys.definition())"
      ],
      "metadata": {
        "colab": {
          "base_uri": "https://localhost:8080/"
        },
        "id": "rKMbBe5QuiK8",
        "outputId": "a0046cdf-6fd6-4d08-a2bf-81854838b76f"
      },
      "execution_count": 115,
      "outputs": [
        {
          "output_type": "stream",
          "name": "stdout",
          "text": [
            "love.n.01 a strong positive emotion of regard and affection\n",
            "love.n.02 any object of warm affection or devotion\n",
            "beloved.n.01 a beloved person; used as terms of endearment\n",
            "love.n.04 a deep feeling of sexual desire and attraction\n",
            "love.n.05 a score of zero in tennis or squash\n",
            "sexual_love.n.02 sexual activities (often including sexual intercourse) between two people\n",
            "love.v.01 have a great affection or liking for\n",
            "love.v.02 get pleasure from\n",
            "love.v.03 be enamored or in love with\n",
            "sleep_together.v.01 have sexual intercourse with\n"
          ]
        }
      ]
    },
    {
      "cell_type": "markdown",
      "source": [
        "FREQ"
      ],
      "metadata": {
        "id": "eZvz2-49v64u"
      }
    },
    {
      "cell_type": "code",
      "source": [
        "import nltk\n",
        "from nltk import FreqDist"
      ],
      "metadata": {
        "id": "yRnVG_hzvE9Y"
      },
      "execution_count": 116,
      "outputs": []
    },
    {
      "cell_type": "code",
      "source": [
        "FreqDist(word_tokenize(para))"
      ],
      "metadata": {
        "colab": {
          "base_uri": "https://localhost:8080/"
        },
        "id": "TZ4wwmKQv9qq",
        "outputId": "8338ef13-43d7-4abd-e145-08f5fc5119c8"
      },
      "execution_count": 118,
      "outputs": [
        {
          "output_type": "execute_result",
          "data": {
            "text/plain": [
              "FreqDist({'My': 2, 'soldiers': 2, 'scream': 1, 'out': 1, '.': 1, 'rage': 1, '!': 1})"
            ]
          },
          "metadata": {},
          "execution_count": 118
        }
      ]
    },
    {
      "cell_type": "code",
      "source": [
        "FreqDist(word_tokenize(para)).most_common(3)"
      ],
      "metadata": {
        "colab": {
          "base_uri": "https://localhost:8080/"
        },
        "id": "K9IaVaWSv_kx",
        "outputId": "7c33bfaf-b3f4-4687-8092-9c16620d65ab"
      },
      "execution_count": 120,
      "outputs": [
        {
          "output_type": "execute_result",
          "data": {
            "text/plain": [
              "[('My', 2), ('soldiers', 2), ('scream', 1)]"
            ]
          },
          "metadata": {},
          "execution_count": 120
        }
      ]
    },
    {
      "cell_type": "markdown",
      "source": [
        "N-GRAM MODEL"
      ],
      "metadata": {
        "id": "8pazwXVYwMOX"
      }
    },
    {
      "cell_type": "code",
      "source": [
        "from nltk.util import ngrams"
      ],
      "metadata": {
        "id": "lmfPJhj2wGst"
      },
      "execution_count": 121,
      "outputs": []
    },
    {
      "cell_type": "code",
      "source": [
        "from nltk.corpus import gutenberg\n",
        "gut=gutenberg.words('austen-emma.txt')"
      ],
      "metadata": {
        "id": "cZ6hk1LrwV2o"
      },
      "execution_count": 122,
      "outputs": []
    },
    {
      "cell_type": "code",
      "source": [
        "list(ngrams(gut,2))[:4]"
      ],
      "metadata": {
        "colab": {
          "base_uri": "https://localhost:8080/"
        },
        "id": "C118oqY0waDC",
        "outputId": "2a3ad9ec-2f62-4b4e-8a2a-fdf5852a9e8b"
      },
      "execution_count": 128,
      "outputs": [
        {
          "output_type": "execute_result",
          "data": {
            "text/plain": [
              "[('[', 'Emma'), ('Emma', 'by'), ('by', 'Jane'), ('Jane', 'Austen')]"
            ]
          },
          "metadata": {},
          "execution_count": 128
        }
      ]
    },
    {
      "cell_type": "markdown",
      "source": [
        "SCKIT LEARN"
      ],
      "metadata": {
        "id": "N1trGX3aw_NC"
      }
    },
    {
      "cell_type": "code",
      "source": [
        "from sklearn.feature_extraction.text import CountVectorizer\n",
        "from sklearn.model_selection import train_test_split\n",
        "from sklearn.naive_bayes import MultinomialNB\n",
        "from sklearn.metrics import classification_report\n",
        "from nltk.util import ngrams"
      ],
      "metadata": {
        "id": "RnMIus4Lycg5"
      },
      "execution_count": 131,
      "outputs": []
    },
    {
      "cell_type": "code",
      "source": [
        "\n",
        "#generated\n",
        "messages = [\n",
        "    \"Free entry in 2 a wkly comp to win FA Cup final tkts\",      # spam\n",
        "    \"U dun say so early hor... U c already then say...\",         # ham\n",
        "    \"WINNER!! As a valued network customer you have been selected to receive a prize\",  # spam\n",
        "    \"Hey, are we still meeting for dinner tonight?\",             # ham\n",
        "    \"Six chances to win CASH! Just text WIN to 80086\",           # spam\n",
        "    \"I'll call you later when I'm free\",                         # ham\n",
        "]\n",
        "labels=[1,0,1,0,1,0]\n",
        "\n",
        "\n",
        "def to_trigram(texts):\n",
        "    trigram_texts = []\n",
        "    for msg in texts:\n",
        "        tokens = msg.lower().split()\n",
        "        trigrams = list(ngrams(tokens, 3))\n",
        "        trigram_texts.append(' '.join(['_'.join(t) for t in trigrams]))\n",
        "    return trigram_texts\n",
        "\n",
        "trigram_msgs = to_trigram(messages)\n",
        "\n",
        "vectorizer=CountVectorizer()\n",
        "X=vectorizer.fit_transform(trigram_msgs)\n",
        "\n",
        "X_train, X_test, y_train, y_test = train_test_split(X, labels, test_size=0.33, random_state=42)\n",
        "model = MultinomialNB()\n",
        "model.fit(X_train, y_train)\n",
        "\n",
        "y_pred = model.predict(X_test)\n",
        "print(classification_report(y_test, y_pred, target_names=[\"ham\", \"spam\"],zero_division=0))#zero_division error"
      ],
      "metadata": {
        "colab": {
          "base_uri": "https://localhost:8080/"
        },
        "id": "gQ7kix-QwhQn",
        "outputId": "40427344-7e6e-4413-bee0-eee887cc0e10"
      },
      "execution_count": 135,
      "outputs": [
        {
          "output_type": "stream",
          "name": "stdout",
          "text": [
            "              precision    recall  f1-score   support\n",
            "\n",
            "         ham       0.50      1.00      0.67         1\n",
            "        spam       0.00      0.00      0.00         1\n",
            "\n",
            "    accuracy                           0.50         2\n",
            "   macro avg       0.25      0.50      0.33         2\n",
            "weighted avg       0.25      0.50      0.33         2\n",
            "\n"
          ]
        }
      ]
    },
    {
      "cell_type": "code",
      "source": [],
      "metadata": {
        "id": "zmtasBPNx1Yy"
      },
      "execution_count": null,
      "outputs": []
    }
  ]
}