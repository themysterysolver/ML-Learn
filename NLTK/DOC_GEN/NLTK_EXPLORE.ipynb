{
  "cells": [
    {
      "cell_type": "markdown",
      "metadata": {
        "id": "abgQ9B0YsQa8"
      },
      "source": [
        "### NLTK EXPLORE"
      ]
    },
    {
      "cell_type": "markdown",
      "metadata": {
        "id": "rFhHDlvOhsk8"
      },
      "source": [
        "TEXT PRE PROCESSING"
      ]
    },
    {
      "cell_type": "code",
      "execution_count": 1,
      "metadata": {
        "id": "185VoBGtiRjr"
      },
      "outputs": [],
      "source": [
        "para=\"My soldiers scream out. My soldiers rage!\""
      ]
    },
    {
      "cell_type": "code",
      "execution_count": 2,
      "metadata": {
        "id": "lMT5ngKgilQQ"
      },
      "outputs": [
        {
          "name": "stdout",
          "output_type": "stream",
          "text": [
            "Requirement already satisfied: nltk in c:\\users\\dell\\anaconda3\\lib\\site-packages (3.9.1)\n",
            "Requirement already satisfied: click in c:\\users\\dell\\anaconda3\\lib\\site-packages (from nltk) (8.1.7)\n",
            "Requirement already satisfied: joblib in c:\\users\\dell\\anaconda3\\lib\\site-packages (from nltk) (1.4.2)\n",
            "Requirement already satisfied: regex>=2021.8.3 in c:\\users\\dell\\anaconda3\\lib\\site-packages (from nltk) (2024.9.11)\n",
            "Requirement already satisfied: tqdm in c:\\users\\dell\\anaconda3\\lib\\site-packages (from nltk) (4.66.5)\n",
            "Requirement already satisfied: colorama in c:\\users\\dell\\anaconda3\\lib\\site-packages (from click->nltk) (0.4.6)\n"
          ]
        }
      ],
      "source": [
        "!pip install nltk"
      ]
    },
    {
      "cell_type": "code",
      "execution_count": 3,
      "metadata": {
        "id": "Iu9yV0VajIhM"
      },
      "outputs": [
        {
          "name": "stderr",
          "output_type": "stream",
          "text": [
            "[nltk_data] Downloading package punkt_tab to\n",
            "[nltk_data]     C:\\Users\\DELL\\AppData\\Roaming\\nltk_data...\n",
            "[nltk_data]   Unzipping tokenizers\\punkt_tab.zip.\n"
          ]
        },
        {
          "data": {
            "text/plain": [
              "True"
            ]
          },
          "execution_count": 3,
          "metadata": {},
          "output_type": "execute_result"
        }
      ],
      "source": [
        "import nltk\n",
        "nltk.download('punkt_tab')"
      ]
    },
    {
      "cell_type": "code",
      "execution_count": 4,
      "metadata": {
        "colab": {
          "base_uri": "https://localhost:8080/"
        },
        "id": "wSR7CLFwgnKi",
        "outputId": "a29949af-657d-4414-b854-80d467939c30"
      },
      "outputs": [
        {
          "data": {
            "text/plain": [
              "['My', 'soldiers', 'scream', 'out', '.', 'My', 'soldiers', 'rage', '!']"
            ]
          },
          "execution_count": 4,
          "metadata": {},
          "output_type": "execute_result"
        }
      ],
      "source": [
        "from nltk.tokenize import word_tokenize, sent_tokenize,WhitespaceTokenizer,RegexpTokenizer,wordpunct_tokenize\n",
        "word_tokenize(para)"
      ]
    },
    {
      "cell_type": "code",
      "execution_count": 5,
      "metadata": {
        "colab": {
          "base_uri": "https://localhost:8080/"
        },
        "id": "A6gtvY62icvj",
        "outputId": "9c83f1e8-5d64-4871-9936-f387ba12c381"
      },
      "outputs": [
        {
          "data": {
            "text/plain": [
              "['My soldiers scream out.', 'My soldiers rage!']"
            ]
          },
          "execution_count": 5,
          "metadata": {},
          "output_type": "execute_result"
        }
      ],
      "source": [
        "sent_tokenize(para)"
      ]
    },
    {
      "cell_type": "code",
      "execution_count": 6,
      "metadata": {
        "colab": {
          "base_uri": "https://localhost:8080/"
        },
        "id": "yEIIli30kKzX",
        "outputId": "5ef06b9d-8d06-48f8-ce35-01f197719841"
      },
      "outputs": [
        {
          "data": {
            "text/plain": [
              "['My', 'soldiers', 'scream', 'out.', 'My', 'soldiers', 'rage!']"
            ]
          },
          "execution_count": 6,
          "metadata": {},
          "output_type": "execute_result"
        }
      ],
      "source": [
        "WhitespaceTokenizer().tokenize(para)"
      ]
    },
    {
      "cell_type": "code",
      "execution_count": 7,
      "metadata": {
        "colab": {
          "base_uri": "https://localhost:8080/"
        },
        "id": "xLnynBdBk1NE",
        "outputId": "7a661615-3e57-445a-8156-192a66b892f1"
      },
      "outputs": [
        {
          "data": {
            "text/plain": [
              "['My', 'soldiers', 'scream', 'out', '.', 'My', 'soldiers', 'rage', '!']"
            ]
          },
          "execution_count": 7,
          "metadata": {},
          "output_type": "execute_result"
        }
      ],
      "source": [
        "wordpunct_tokenize(para)"
      ]
    },
    {
      "cell_type": "code",
      "execution_count": 8,
      "metadata": {
        "colab": {
          "base_uri": "https://localhost:8080/"
        },
        "id": "Oy-Cagw7lTVn",
        "outputId": "d6b1c96d-6a41-4075-a1e2-2f4a3fdfd363"
      },
      "outputs": [
        {
          "data": {
            "text/plain": [
              "['My soldiers scream out', ' My soldiers rage!']"
            ]
          },
          "execution_count": 8,
          "metadata": {},
          "output_type": "execute_result"
        }
      ],
      "source": [
        "RegexpTokenizer(r'\\.+',gaps=True).tokenize(para)"
      ]
    },
    {
      "cell_type": "markdown",
      "metadata": {
        "id": "_GKGiXC_mTy1"
      },
      "source": [
        "CLEANSING"
      ]
    },
    {
      "cell_type": "code",
      "execution_count": 9,
      "metadata": {
        "id": "5_dO1F7_nYdW"
      },
      "outputs": [
        {
          "name": "stderr",
          "output_type": "stream",
          "text": [
            "[nltk_data] Downloading package punkt to\n",
            "[nltk_data]     C:\\Users\\DELL\\AppData\\Roaming\\nltk_data...\n",
            "[nltk_data]   Package punkt is already up-to-date!\n",
            "[nltk_data] Downloading package stopwords to\n",
            "[nltk_data]     C:\\Users\\DELL\\AppData\\Roaming\\nltk_data...\n",
            "[nltk_data]   Unzipping corpora\\stopwords.zip.\n",
            "[nltk_data] Downloading package wordnet to\n",
            "[nltk_data]     C:\\Users\\DELL\\AppData\\Roaming\\nltk_data...\n",
            "[nltk_data] Downloading package omw-1.4 to\n",
            "[nltk_data]     C:\\Users\\DELL\\AppData\\Roaming\\nltk_data...\n"
          ]
        },
        {
          "data": {
            "text/plain": [
              "True"
            ]
          },
          "execution_count": 9,
          "metadata": {},
          "output_type": "execute_result"
        }
      ],
      "source": [
        "import nltk\n",
        "nltk.download('punkt')\n",
        "nltk.download('stopwords')\n",
        "nltk.download('wordnet')\n",
        "nltk.download('omw-1.4')"
      ]
    },
    {
      "cell_type": "code",
      "execution_count": 10,
      "metadata": {
        "id": "EqR9GeMKmW2b"
      },
      "outputs": [],
      "source": [
        "from nltk.corpus import stopwords\n",
        "from nltk.stem import PorterStemmer,WordNetLemmatizer"
      ]
    },
    {
      "cell_type": "code",
      "execution_count": 11,
      "metadata": {
        "colab": {
          "base_uri": "https://localhost:8080/",
          "height": 36
        },
        "id": "oTzm-QkJliFU",
        "outputId": "d63c23d4-65fc-4e81-e107-d871fdd4e73d"
      },
      "outputs": [
        {
          "data": {
            "text/plain": [
              "'my soldiers scream out. my soldiers rage!'"
            ]
          },
          "execution_count": 11,
          "metadata": {},
          "output_type": "execute_result"
        }
      ],
      "source": [
        "para.lower()"
      ]
    },
    {
      "cell_type": "code",
      "execution_count": 12,
      "metadata": {
        "colab": {
          "base_uri": "https://localhost:8080/"
        },
        "id": "FQEMrfENmpcR",
        "outputId": "0b0914e2-0aae-4bc6-ef65-0dc9be7a24ac"
      },
      "outputs": [
        {
          "name": "stdout",
          "output_type": "stream",
          "text": [
            "['a', 'the', 'an', 'is', 'was', 'a', 'the', 'goated', '!', 'and', 'abd', 'is', 'mr.360']\n"
          ]
        }
      ],
      "source": [
        "stop_checker=\"a the an is was a The goated! And abd is Mr.360\"\n",
        "tokens=word_tokenize(stop_checker.lower())\n",
        "print(tokens)"
      ]
    },
    {
      "cell_type": "code",
      "execution_count": 13,
      "metadata": {
        "colab": {
          "base_uri": "https://localhost:8080/"
        },
        "id": "GgXilNFJmu1X",
        "outputId": "24bfcdc9-04dc-43fb-e59c-73d6fd05e451"
      },
      "outputs": [
        {
          "data": {
            "text/plain": [
              "['goated', '!', 'abd', 'mr.360']"
            ]
          },
          "execution_count": 13,
          "metadata": {},
          "output_type": "execute_result"
        }
      ],
      "source": [
        "[word for word in tokens if word not in stopwords.words('english')]"
      ]
    },
    {
      "cell_type": "code",
      "execution_count": 14,
      "metadata": {
        "colab": {
          "base_uri": "https://localhost:8080/"
        },
        "id": "8TO4JttinUZK",
        "outputId": "e5e1f6bb-498e-449a-eb7e-176f8b23138d"
      },
      "outputs": [
        {
          "name": "stdout",
          "output_type": "stream",
          "text": [
            "goated ! abd mr.\n"
          ]
        }
      ],
      "source": [
        "import re\n",
        "w=[word for word in tokens if word not in stopwords.words('english')]\n",
        "str_digits_removed=re.sub(r'\\d+','',' '.join(w))\n",
        "print(str_digits_removed)"
      ]
    },
    {
      "cell_type": "code",
      "execution_count": 15,
      "metadata": {
        "colab": {
          "base_uri": "https://localhost:8080/"
        },
        "id": "tlDKl_qintrh",
        "outputId": "723ad1b9-4321-4879-9674-532205836ccd"
      },
      "outputs": [
        {
          "data": {
            "text/plain": [
              "['goat', '!', 'abd', 'mr.360']"
            ]
          },
          "execution_count": 15,
          "metadata": {},
          "output_type": "execute_result"
        }
      ],
      "source": [
        "[PorterStemmer().stem(word) for word in tokens if word not in stopwords.words('english')]"
      ]
    },
    {
      "cell_type": "code",
      "execution_count": 16,
      "metadata": {
        "colab": {
          "base_uri": "https://localhost:8080/"
        },
        "id": "N59yvbkko3sf",
        "outputId": "daabafa4-efb7-4358-df3a-b3c38f264d0d"
      },
      "outputs": [
        {
          "data": {
            "text/plain": [
              "['goated', '!', 'abd', 'mr.360']"
            ]
          },
          "execution_count": 16,
          "metadata": {},
          "output_type": "execute_result"
        }
      ],
      "source": [
        "[WordNetLemmatizer().lemmatize(word) for word in tokens if word not in stopwords.words('english')]"
      ]
    },
    {
      "cell_type": "markdown",
      "metadata": {
        "id": "eFxg3HyQpqsQ"
      },
      "source": [
        "POS TAGGING"
      ]
    },
    {
      "cell_type": "code",
      "execution_count": 17,
      "metadata": {
        "id": "sChNBg9TpgIi"
      },
      "outputs": [
        {
          "name": "stderr",
          "output_type": "stream",
          "text": [
            "[nltk_data] Downloading package averaged_perceptron_tagger_eng to\n",
            "[nltk_data]     C:\\Users\\DELL\\AppData\\Roaming\\nltk_data...\n",
            "[nltk_data]   Unzipping taggers\\averaged_perceptron_tagger_eng.zip.\n"
          ]
        },
        {
          "data": {
            "text/plain": [
              "True"
            ]
          },
          "execution_count": 17,
          "metadata": {},
          "output_type": "execute_result"
        }
      ],
      "source": [
        "import nltk\n",
        "nltk.download('averaged_perceptron_tagger_eng',force=True)"
      ]
    },
    {
      "cell_type": "code",
      "execution_count": 18,
      "metadata": {
        "id": "YbhA2RD5q7Ch"
      },
      "outputs": [],
      "source": [
        "from nltk import pos_tag,word_tokenize"
      ]
    },
    {
      "cell_type": "code",
      "execution_count": 19,
      "metadata": {
        "colab": {
          "base_uri": "https://localhost:8080/"
        },
        "id": "2xIGO3eBqa0d",
        "outputId": "969e0ed7-0eea-4c59-dac3-0a8708b35576"
      },
      "outputs": [
        {
          "data": {
            "text/plain": [
              "[('I', 'PRP'),\n",
              " ('loved', 'VBD'),\n",
              " ('a', 'DT'),\n",
              " ('girl.Beuatiful', 'JJ'),\n",
              " ('and', 'CC'),\n",
              " ('sweet', 'JJ'),\n",
              " (',', ','),\n",
              " ('I', 'PRP'),\n",
              " ('never', 'RB'),\n",
              " ('knew', 'VBD'),\n",
              " ('you', 'PRP'),\n",
              " ('were', 'VBD'),\n",
              " ('the', 'DT'),\n",
              " ('one', 'CD'),\n",
              " ('waiting', 'NN'),\n",
              " ('for', 'IN'),\n",
              " ('me', 'PRP'),\n",
              " ('!', '.'),\n",
              " ('!', '.')]"
            ]
          },
          "execution_count": 19,
          "metadata": {},
          "output_type": "execute_result"
        }
      ],
      "source": [
        "pos_check=\"I loved a girl.Beuatiful and sweet,I never knew you were the one waiting for me!!\"\n",
        "pos_tag(word_tokenize(pos_check))"
      ]
    },
    {
      "cell_type": "markdown",
      "metadata": {
        "id": "Ne0IJ7CFsIEt"
      },
      "source": [
        "NER(Named Entity relation)"
      ]
    },
    {
      "cell_type": "code",
      "execution_count": 20,
      "metadata": {
        "colab": {
          "base_uri": "https://localhost:8080/"
        },
        "id": "G5IwM3B6tm3i",
        "outputId": "0e4fe14f-ef7b-408d-ff8f-97fc4dd281c6"
      },
      "outputs": [
        {
          "name": "stderr",
          "output_type": "stream",
          "text": [
            "[nltk_data] Downloading package maxent_ne_chunker_tab to\n",
            "[nltk_data]     C:\\Users\\DELL\\AppData\\Roaming\\nltk_data...\n",
            "[nltk_data]   Unzipping chunkers\\maxent_ne_chunker_tab.zip.\n",
            "[nltk_data] Downloading package words to\n",
            "[nltk_data]     C:\\Users\\DELL\\AppData\\Roaming\\nltk_data...\n",
            "[nltk_data]   Unzipping corpora\\words.zip.\n"
          ]
        },
        {
          "data": {
            "text/plain": [
              "True"
            ]
          },
          "execution_count": 20,
          "metadata": {},
          "output_type": "execute_result"
        }
      ],
      "source": [
        "nltk.download('maxent_ne_chunker_tab')\n",
        "nltk.download('words')"
      ]
    },
    {
      "cell_type": "code",
      "execution_count": 21,
      "metadata": {
        "id": "fFCSD-RkqzQ4"
      },
      "outputs": [],
      "source": [
        "from nltk import ne_chunk\n",
        "from nltk.tree import Tree"
      ]
    },
    {
      "cell_type": "code",
      "execution_count": 22,
      "metadata": {
        "colab": {
          "base_uri": "https://localhost:8080/"
        },
        "id": "ZW2pUShgthVb",
        "outputId": "afc5b67a-08f1-4b0c-f095-13c09311abcc"
      },
      "outputs": [
        {
          "name": "stdout",
          "output_type": "stream",
          "text": [
            "(S\n",
            "  (PERSON Barack/NNP)\n",
            "  (PERSON Obama/NNP)\n",
            "  was/VBD\n",
            "  the/DT\n",
            "  unique/JJ\n",
            "  and/CC\n",
            "  noble/JJ\n",
            "  president/NN\n",
            "  of/IN\n",
            "  the/DT\n",
            "  (ORGANIZATION USA/NNP)\n",
            "  ./.)\n"
          ]
        }
      ],
      "source": [
        "sentence = pos_tag(word_tokenize(\"Barack Obama was the unique and noble president of the USA.\"))\n",
        "tree = ne_chunk(sentence)\n",
        "print(tree)"
      ]
    },
    {
      "cell_type": "markdown",
      "metadata": {
        "id": "wlwRKRlht-nP"
      },
      "source": [
        "CORPUS AND WORDNET"
      ]
    },
    {
      "cell_type": "code",
      "execution_count": 23,
      "metadata": {
        "colab": {
          "base_uri": "https://localhost:8080/"
        },
        "id": "aq_FWizWuDQC",
        "outputId": "826d6531-9778-4e6b-9a22-9c9ae4b40aab"
      },
      "outputs": [
        {
          "name": "stderr",
          "output_type": "stream",
          "text": [
            "[nltk_data] Downloading package gutenberg to\n",
            "[nltk_data]     C:\\Users\\DELL\\AppData\\Roaming\\nltk_data...\n",
            "[nltk_data]   Unzipping corpora\\gutenberg.zip.\n"
          ]
        },
        {
          "data": {
            "text/plain": [
              "True"
            ]
          },
          "execution_count": 23,
          "metadata": {},
          "output_type": "execute_result"
        }
      ],
      "source": [
        "nltk.download('gutenberg')"
      ]
    },
    {
      "cell_type": "code",
      "execution_count": 24,
      "metadata": {
        "id": "pqCZQwhKua3e"
      },
      "outputs": [
        {
          "name": "stderr",
          "output_type": "stream",
          "text": [
            "[nltk_data] Downloading package wordnet to\n",
            "[nltk_data]     C:\\Users\\DELL\\AppData\\Roaming\\nltk_data...\n",
            "[nltk_data]   Package wordnet is already up-to-date!\n"
          ]
        },
        {
          "data": {
            "text/plain": [
              "True"
            ]
          },
          "execution_count": 24,
          "metadata": {},
          "output_type": "execute_result"
        }
      ],
      "source": [
        "from nltk.corpus import wordnet\n",
        "import nltk\n",
        "nltk.download('wordnet')"
      ]
    },
    {
      "cell_type": "code",
      "execution_count": 25,
      "metadata": {
        "colab": {
          "base_uri": "https://localhost:8080/"
        },
        "id": "Svl-Mvxntju3",
        "outputId": "4752aecb-72f4-4fed-9929-5607c7cc50f7"
      },
      "outputs": [
        {
          "data": {
            "text/plain": [
              "['[', 'Emma', 'by', 'Jane', 'Austen', '1816', ']', ...]"
            ]
          },
          "execution_count": 25,
          "metadata": {},
          "output_type": "execute_result"
        }
      ],
      "source": [
        "from nltk.corpus import gutenberg\n",
        "gutenberg.words('austen-emma.txt')"
      ]
    },
    {
      "cell_type": "code",
      "execution_count": 26,
      "metadata": {
        "colab": {
          "base_uri": "https://localhost:8080/"
        },
        "id": "p5RsHAT7uBSw",
        "outputId": "60455f28-6a14-4262-e741-c2d447fe89c5"
      },
      "outputs": [
        {
          "data": {
            "text/plain": [
              "[Synset('love.n.01'),\n",
              " Synset('love.n.02'),\n",
              " Synset('beloved.n.01'),\n",
              " Synset('love.n.04'),\n",
              " Synset('love.n.05'),\n",
              " Synset('sexual_love.n.02'),\n",
              " Synset('love.v.01'),\n",
              " Synset('love.v.02'),\n",
              " Synset('love.v.03'),\n",
              " Synset('sleep_together.v.01')]"
            ]
          },
          "execution_count": 26,
          "metadata": {},
          "output_type": "execute_result"
        }
      ],
      "source": [
        "wordnet.synsets('love')"
      ]
    },
    {
      "cell_type": "code",
      "execution_count": 27,
      "metadata": {
        "colab": {
          "base_uri": "https://localhost:8080/"
        },
        "id": "rKMbBe5QuiK8",
        "outputId": "a0046cdf-6fd6-4d08-a2bf-81854838b76f"
      },
      "outputs": [
        {
          "name": "stdout",
          "output_type": "stream",
          "text": [
            "love.n.01 a strong positive emotion of regard and affection\n",
            "love.n.02 any object of warm affection or devotion\n",
            "beloved.n.01 a beloved person; used as terms of endearment\n",
            "love.n.04 a deep feeling of sexual desire and attraction\n",
            "love.n.05 a score of zero in tennis or squash\n",
            "sexual_love.n.02 sexual activities (often including sexual intercourse) between two people\n",
            "love.v.01 have a great affection or liking for\n",
            "love.v.02 get pleasure from\n",
            "love.v.03 be enamored or in love with\n",
            "sleep_together.v.01 have sexual intercourse with\n"
          ]
        }
      ],
      "source": [
        "for sys in wordnet.synsets('love'):\n",
        "    print(sys.name(),sys.definition())"
      ]
    },
    {
      "cell_type": "markdown",
      "metadata": {
        "id": "eZvz2-49v64u"
      },
      "source": [
        "FREQ"
      ]
    },
    {
      "cell_type": "code",
      "execution_count": 28,
      "metadata": {
        "id": "yRnVG_hzvE9Y"
      },
      "outputs": [],
      "source": [
        "import nltk\n",
        "from nltk import FreqDist"
      ]
    },
    {
      "cell_type": "code",
      "execution_count": 29,
      "metadata": {
        "colab": {
          "base_uri": "https://localhost:8080/"
        },
        "id": "TZ4wwmKQv9qq",
        "outputId": "8338ef13-43d7-4abd-e145-08f5fc5119c8"
      },
      "outputs": [
        {
          "data": {
            "text/plain": [
              "FreqDist({'My': 2, 'soldiers': 2, 'scream': 1, 'out': 1, '.': 1, 'rage': 1, '!': 1})"
            ]
          },
          "execution_count": 29,
          "metadata": {},
          "output_type": "execute_result"
        }
      ],
      "source": [
        "FreqDist(word_tokenize(para))"
      ]
    },
    {
      "cell_type": "code",
      "execution_count": 30,
      "metadata": {
        "colab": {
          "base_uri": "https://localhost:8080/"
        },
        "id": "K9IaVaWSv_kx",
        "outputId": "7c33bfaf-b3f4-4687-8092-9c16620d65ab"
      },
      "outputs": [
        {
          "data": {
            "text/plain": [
              "[('My', 2), ('soldiers', 2), ('scream', 1)]"
            ]
          },
          "execution_count": 30,
          "metadata": {},
          "output_type": "execute_result"
        }
      ],
      "source": [
        "FreqDist(word_tokenize(para)).most_common(3)"
      ]
    },
    {
      "cell_type": "markdown",
      "metadata": {
        "id": "8pazwXVYwMOX"
      },
      "source": [
        "N-GRAM MODEL"
      ]
    },
    {
      "cell_type": "code",
      "execution_count": 31,
      "metadata": {
        "id": "lmfPJhj2wGst"
      },
      "outputs": [],
      "source": [
        "from nltk.util import ngrams"
      ]
    },
    {
      "cell_type": "code",
      "execution_count": 32,
      "metadata": {
        "id": "cZ6hk1LrwV2o"
      },
      "outputs": [],
      "source": [
        "from nltk.corpus import gutenberg\n",
        "gut=gutenberg.words('austen-emma.txt')"
      ]
    },
    {
      "cell_type": "code",
      "execution_count": 33,
      "metadata": {
        "colab": {
          "base_uri": "https://localhost:8080/"
        },
        "id": "C118oqY0waDC",
        "outputId": "2a3ad9ec-2f62-4b4e-8a2a-fdf5852a9e8b"
      },
      "outputs": [
        {
          "data": {
            "text/plain": [
              "[('[', 'Emma'), ('Emma', 'by'), ('by', 'Jane'), ('Jane', 'Austen')]"
            ]
          },
          "execution_count": 33,
          "metadata": {},
          "output_type": "execute_result"
        }
      ],
      "source": [
        "list(ngrams(gut,2))[:4]"
      ]
    },
    {
      "cell_type": "markdown",
      "metadata": {
        "id": "N1trGX3aw_NC"
      },
      "source": [
        "SCKIT LEARN"
      ]
    },
    {
      "cell_type": "code",
      "execution_count": 34,
      "metadata": {
        "id": "RnMIus4Lycg5"
      },
      "outputs": [],
      "source": [
        "from sklearn.feature_extraction.text import CountVectorizer\n",
        "from sklearn.model_selection import train_test_split\n",
        "from sklearn.naive_bayes import MultinomialNB\n",
        "from sklearn.metrics import classification_report\n",
        "from nltk.util import ngrams"
      ]
    },
    {
      "cell_type": "code",
      "execution_count": 35,
      "metadata": {
        "colab": {
          "base_uri": "https://localhost:8080/"
        },
        "id": "gQ7kix-QwhQn",
        "outputId": "40427344-7e6e-4413-bee0-eee887cc0e10"
      },
      "outputs": [
        {
          "name": "stdout",
          "output_type": "stream",
          "text": [
            "              precision    recall  f1-score   support\n",
            "\n",
            "         ham       0.50      1.00      0.67         1\n",
            "        spam       0.00      0.00      0.00         1\n",
            "\n",
            "    accuracy                           0.50         2\n",
            "   macro avg       0.25      0.50      0.33         2\n",
            "weighted avg       0.25      0.50      0.33         2\n",
            "\n"
          ]
        }
      ],
      "source": [
        "\n",
        "#generated\n",
        "messages = [\n",
        "    \"Free entry in 2 a wkly comp to win FA Cup final tkts\",      # spam\n",
        "    \"U dun say so early hor... U c already then say...\",         # ham\n",
        "    \"WINNER!! As a valued network customer you have been selected to receive a prize\",  # spam\n",
        "    \"Hey, are we still meeting for dinner tonight?\",             # ham\n",
        "    \"Six chances to win CASH! Just text WIN to 80086\",           # spam\n",
        "    \"I'll call you later when I'm free\",                         # ham\n",
        "]\n",
        "labels=[1,0,1,0,1,0]\n",
        "\n",
        "\n",
        "def to_trigram(texts):\n",
        "    trigram_texts = []\n",
        "    for msg in texts:\n",
        "        tokens = msg.lower().split()\n",
        "        trigrams = list(ngrams(tokens, 3))\n",
        "        trigram_texts.append(' '.join(['_'.join(t) for t in trigrams]))\n",
        "    return trigram_texts\n",
        "\n",
        "trigram_msgs = to_trigram(messages)\n",
        "\n",
        "vectorizer=CountVectorizer()\n",
        "X=vectorizer.fit_transform(trigram_msgs)\n",
        "\n",
        "X_train, X_test, y_train, y_test = train_test_split(X, labels, test_size=0.33, random_state=42)\n",
        "model = MultinomialNB()\n",
        "model.fit(X_train, y_train)\n",
        "\n",
        "y_pred = model.predict(X_test)\n",
        "print(classification_report(y_test, y_pred, target_names=[\"ham\", \"spam\"],zero_division=0))#zero_division error"
      ]
    }
  ],
  "metadata": {
    "colab": {
      "provenance": []
    },
    "kernelspec": {
      "display_name": "myenv",
      "language": "python",
      "name": "myenv"
    },
    "language_info": {
      "codemirror_mode": {
        "name": "ipython",
        "version": 3
      },
      "file_extension": ".py",
      "mimetype": "text/x-python",
      "name": "python",
      "nbconvert_exporter": "python",
      "pygments_lexer": "ipython3",
      "version": "3.12.7"
    }
  },
  "nbformat": 4,
  "nbformat_minor": 0
}
